{
 "cells": [
  {
   "cell_type": "markdown",
   "metadata": {},
   "source": [
    "# Module 2 : Data Analysis - Insights"
   ]
  },
  {
   "cell_type": "markdown",
   "metadata": {},
   "source": [
    "### 1. Importing required libraries and loading all csv files created in module 1"
   ]
  },
  {
   "cell_type": "code",
   "execution_count": 1,
   "metadata": {},
   "outputs": [],
   "source": [
    "import pandas as pd\n",
    "import numpy as np\n",
    "import datetime as datetime"
   ]
  },
  {
   "cell_type": "code",
   "execution_count": 2,
   "metadata": {},
   "outputs": [],
   "source": [
    "df_demo = pd.read_csv('CustomerDemographic.csv',index_col=0)\n",
    "df_custadd = pd.read_csv('CustomerAddress.csv',index_col=0)\n",
    "df_transaction = pd.read_csv('Transactions.csv',index_col=0)\n",
    "df_newcustomer = pd.read_csv('NewCustomerList.csv',index_col=0)"
   ]
  },
  {
   "cell_type": "code",
   "execution_count": 3,
   "metadata": {},
   "outputs": [
    {
     "data": {
      "text/html": [
       "<div>\n",
       "<style scoped>\n",
       "    .dataframe tbody tr th:only-of-type {\n",
       "        vertical-align: middle;\n",
       "    }\n",
       "\n",
       "    .dataframe tbody tr th {\n",
       "        vertical-align: top;\n",
       "    }\n",
       "\n",
       "    .dataframe thead th {\n",
       "        text-align: right;\n",
       "    }\n",
       "</style>\n",
       "<table border=\"1\" class=\"dataframe\">\n",
       "  <thead>\n",
       "    <tr style=\"text-align: right;\">\n",
       "      <th></th>\n",
       "      <th>customer_id</th>\n",
       "      <th>gender</th>\n",
       "      <th>past_3_years_bike_related_purchases</th>\n",
       "      <th>DOB</th>\n",
       "      <th>job_title</th>\n",
       "      <th>job_industry_category</th>\n",
       "      <th>wealth_segment</th>\n",
       "      <th>deceased_indicator</th>\n",
       "      <th>owns_car</th>\n",
       "      <th>tenure</th>\n",
       "      <th>full_name</th>\n",
       "      <th>age</th>\n",
       "    </tr>\n",
       "  </thead>\n",
       "  <tbody>\n",
       "    <tr>\n",
       "      <th>0</th>\n",
       "      <td>1</td>\n",
       "      <td>F</td>\n",
       "      <td>93</td>\n",
       "      <td>1953-10-12</td>\n",
       "      <td>Executive Secretary</td>\n",
       "      <td>Health</td>\n",
       "      <td>Mass Customer</td>\n",
       "      <td>N</td>\n",
       "      <td>Yes</td>\n",
       "      <td>11.0</td>\n",
       "      <td>Laraine-Medendorp</td>\n",
       "      <td>69</td>\n",
       "    </tr>\n",
       "    <tr>\n",
       "      <th>1</th>\n",
       "      <td>2</td>\n",
       "      <td>M</td>\n",
       "      <td>81</td>\n",
       "      <td>1980-12-16</td>\n",
       "      <td>Administrative Officer</td>\n",
       "      <td>Financial Services</td>\n",
       "      <td>Mass Customer</td>\n",
       "      <td>N</td>\n",
       "      <td>Yes</td>\n",
       "      <td>16.0</td>\n",
       "      <td>Eli-Bockman</td>\n",
       "      <td>42</td>\n",
       "    </tr>\n",
       "    <tr>\n",
       "      <th>2</th>\n",
       "      <td>3</td>\n",
       "      <td>M</td>\n",
       "      <td>61</td>\n",
       "      <td>1954-01-20</td>\n",
       "      <td>Recruiting Manager</td>\n",
       "      <td>Property</td>\n",
       "      <td>Mass Customer</td>\n",
       "      <td>N</td>\n",
       "      <td>Yes</td>\n",
       "      <td>15.0</td>\n",
       "      <td>Arlin-Dearle</td>\n",
       "      <td>68</td>\n",
       "    </tr>\n",
       "  </tbody>\n",
       "</table>\n",
       "</div>"
      ],
      "text/plain": [
       "   customer_id gender  past_3_years_bike_related_purchases         DOB  \\\n",
       "0            1      F                                   93  1953-10-12   \n",
       "1            2      M                                   81  1980-12-16   \n",
       "2            3      M                                   61  1954-01-20   \n",
       "\n",
       "                job_title job_industry_category wealth_segment  \\\n",
       "0     Executive Secretary                Health  Mass Customer   \n",
       "1  Administrative Officer    Financial Services  Mass Customer   \n",
       "2      Recruiting Manager              Property  Mass Customer   \n",
       "\n",
       "  deceased_indicator owns_car  tenure          full_name  age  \n",
       "0                  N      Yes    11.0  Laraine-Medendorp   69  \n",
       "1                  N      Yes    16.0        Eli-Bockman   42  \n",
       "2                  N      Yes    15.0       Arlin-Dearle   68  "
      ]
     },
     "execution_count": 3,
     "metadata": {},
     "output_type": "execute_result"
    }
   ],
   "source": [
    "df_demo.head(3)"
   ]
  },
  {
   "cell_type": "code",
   "execution_count": 4,
   "metadata": {},
   "outputs": [
    {
     "data": {
      "text/html": [
       "<div>\n",
       "<style scoped>\n",
       "    .dataframe tbody tr th:only-of-type {\n",
       "        vertical-align: middle;\n",
       "    }\n",
       "\n",
       "    .dataframe tbody tr th {\n",
       "        vertical-align: top;\n",
       "    }\n",
       "\n",
       "    .dataframe thead th {\n",
       "        text-align: right;\n",
       "    }\n",
       "</style>\n",
       "<table border=\"1\" class=\"dataframe\">\n",
       "  <thead>\n",
       "    <tr style=\"text-align: right;\">\n",
       "      <th></th>\n",
       "      <th>customer_id</th>\n",
       "      <th>past_3_years_bike_related_purchases</th>\n",
       "      <th>tenure</th>\n",
       "      <th>age</th>\n",
       "    </tr>\n",
       "  </thead>\n",
       "  <tbody>\n",
       "    <tr>\n",
       "      <th>count</th>\n",
       "      <td>2863.000000</td>\n",
       "      <td>2863.000000</td>\n",
       "      <td>2863.000000</td>\n",
       "      <td>2863.000000</td>\n",
       "    </tr>\n",
       "    <tr>\n",
       "      <th>mean</th>\n",
       "      <td>1965.637094</td>\n",
       "      <td>49.487950</td>\n",
       "      <td>10.678659</td>\n",
       "      <td>44.723367</td>\n",
       "    </tr>\n",
       "    <tr>\n",
       "      <th>std</th>\n",
       "      <td>1150.460920</td>\n",
       "      <td>28.813828</td>\n",
       "      <td>5.675673</td>\n",
       "      <td>12.522111</td>\n",
       "    </tr>\n",
       "    <tr>\n",
       "      <th>min</th>\n",
       "      <td>1.000000</td>\n",
       "      <td>0.000000</td>\n",
       "      <td>1.000000</td>\n",
       "      <td>20.000000</td>\n",
       "    </tr>\n",
       "    <tr>\n",
       "      <th>25%</th>\n",
       "      <td>969.500000</td>\n",
       "      <td>25.000000</td>\n",
       "      <td>6.000000</td>\n",
       "      <td>35.000000</td>\n",
       "    </tr>\n",
       "    <tr>\n",
       "      <th>50%</th>\n",
       "      <td>1956.000000</td>\n",
       "      <td>49.000000</td>\n",
       "      <td>11.000000</td>\n",
       "      <td>45.000000</td>\n",
       "    </tr>\n",
       "    <tr>\n",
       "      <th>75%</th>\n",
       "      <td>2955.500000</td>\n",
       "      <td>74.000000</td>\n",
       "      <td>16.000000</td>\n",
       "      <td>54.000000</td>\n",
       "    </tr>\n",
       "    <tr>\n",
       "      <th>max</th>\n",
       "      <td>3997.000000</td>\n",
       "      <td>99.000000</td>\n",
       "      <td>22.000000</td>\n",
       "      <td>87.000000</td>\n",
       "    </tr>\n",
       "  </tbody>\n",
       "</table>\n",
       "</div>"
      ],
      "text/plain": [
       "       customer_id  past_3_years_bike_related_purchases       tenure  \\\n",
       "count  2863.000000                          2863.000000  2863.000000   \n",
       "mean   1965.637094                            49.487950    10.678659   \n",
       "std    1150.460920                            28.813828     5.675673   \n",
       "min       1.000000                             0.000000     1.000000   \n",
       "25%     969.500000                            25.000000     6.000000   \n",
       "50%    1956.000000                            49.000000    11.000000   \n",
       "75%    2955.500000                            74.000000    16.000000   \n",
       "max    3997.000000                            99.000000    22.000000   \n",
       "\n",
       "               age  \n",
       "count  2863.000000  \n",
       "mean     44.723367  \n",
       "std      12.522111  \n",
       "min      20.000000  \n",
       "25%      35.000000  \n",
       "50%      45.000000  \n",
       "75%      54.000000  \n",
       "max      87.000000  "
      ]
     },
     "execution_count": 4,
     "metadata": {},
     "output_type": "execute_result"
    }
   ],
   "source": [
    "df_demo.describe()"
   ]
  },
  {
   "cell_type": "markdown",
   "metadata": {},
   "source": [
    "### 2. Adding new column"
   ]
  },
  {
   "cell_type": "code",
   "execution_count": 5,
   "metadata": {},
   "outputs": [],
   "source": [
    "# dividing age into age range and creating new column\n",
    "\n",
    "df_demo['age_range'] = pd.cut(df_demo['age'], bins=4)"
   ]
  },
  {
   "cell_type": "markdown",
   "metadata": {},
   "source": [
    "### 3. Visulaising Data"
   ]
  },
  {
   "cell_type": "markdown",
   "metadata": {},
   "source": [
    "### Age and gender-wise analysis\n",
    "Now, we will analyse that customer's age makes a difference in profit or bike purchasing together with gender. "
   ]
  },
  {
   "cell_type": "code",
   "execution_count": 6,
   "metadata": {},
   "outputs": [],
   "source": [
    "import seaborn as sns\n",
    "import matplotlib.pyplot as plt"
   ]
  },
  {
   "cell_type": "markdown",
   "metadata": {},
   "source": [
    "**Age distribution among old and new customers"
   ]
  },
  {
   "cell_type": "code",
   "execution_count": 7,
   "metadata": {},
   "outputs": [
    {
     "data": {
      "text/plain": [
       "Text(0.5, 1.0, 'Age distribution of old customers')"
      ]
     },
     "execution_count": 7,
     "metadata": {},
     "output_type": "execute_result"
    },
    {
     "data": {
      "image/png": "[encoded data removed]",
      "text/plain": [
       "<Figure size 432x288 with 1 Axes>"
      ]
     },
     "metadata": {
      "needs_background": "light"
     },
     "output_type": "display_data"
    }
   ],
   "source": [
    "sns.boxplot(x='age', data = df_demo)\n",
    "plt.title('Age distribution of old customers')"
   ]
  },
  {
   "cell_type": "markdown",
   "metadata": {},
   "source": [
    "**Gender distribution amongst old and new customers"
   ]
  },
  {
   "cell_type": "code",
   "execution_count": 8,
   "metadata": {},
   "outputs": [
    {
     "data": {
      "image/png": "[encoded data removed]",
      "text/plain": [
       "<Figure size 360x504 with 1 Axes>"
      ]
     },
     "metadata": {
      "needs_background": "light"
     },
     "output_type": "display_data"
    }
   ],
   "source": [
    "plt.figure(figsize=(5,7))\n",
    "g = sns.countplot(df_demo['gender'])\n",
    "plt.title('Gender distribution in old Customers')\n",
    "for p in g.patches:\n",
    "    x=p.get_bbox().get_points()[:,0]\n",
    "    y=p.get_bbox().get_points()[1,1]\n",
    "    g.annotate('{:.1f}%'.format(100*y/len(df_demo)), (x.mean(), y), ha='center', va='bottom', size='17')"
   ]
  },
  {
   "cell_type": "markdown",
   "metadata": {},
   "source": [
    "Bike purchased in past 3 years by old and new customer anlayzing by age a"
   ]
  },
  {
   "cell_type": "code",
   "execution_count": 9,
   "metadata": {},
   "outputs": [
    {
     "data": {
      "text/plain": [
       "Text(0.5, 1.0, 'Age-wise bike purchase in past 3 years by old customers')"
      ]
     },
     "execution_count": 9,
     "metadata": {},
     "output_type": "execute_result"
    },
    {
     "data": {
      "image/png": "[encoded data removed]",
      "text/plain": [
       "<Figure size 1440x576 with 1 Axes>"
      ]
     },
     "metadata": {
      "needs_background": "light"
     },
     "output_type": "display_data"
    }
   ],
   "source": [
    "bike_df = df_demo.groupby('age')['past_3_years_bike_related_purchases'].sum().reset_index(name='total_bikes')\n",
    "\n",
    "plt.figure(figsize=(20,8))\n",
    "ax = sns.barplot(x = bike_df['age'], y = bike_df['total_bikes'], hue= df_demo['age_range'], data = bike_df)\n",
    "plt.title('Age-wise bike purchase in past 3 years by old customers')"
   ]
  },
  {
   "cell_type": "code",
   "execution_count": 10,
   "metadata": {
    "scrolled": false
   },
   "outputs": [
    {
     "data": {
      "image/png": "[encoded data removed]",
      "text/plain": [
       "<Figure size 720x576 with 1 Axes>"
      ]
     },
     "metadata": {
      "needs_background": "light"
     },
     "output_type": "display_data"
    }
   ],
   "source": [
    "bike_df = df_demo.groupby('gender')['past_3_years_bike_related_purchases'].sum().reset_index(name='total_bikes')\n",
    "\n",
    "plt.figure(figsize=(10,8))\n",
    "g = sns.barplot(x = bike_df['gender'], y = bike_df['total_bikes'], hue= df_demo['gender'], data = bike_df)\n",
    "plt.title('Gender-wise bike purchase in past 3 years by old customers')\n",
    "\n",
    "for p in g.patches:\n",
    "    x=p.get_bbox().get_points()[:,0]\n",
    "    y=p.get_bbox().get_points()[1,1]\n",
    "    g.annotate('{:.1f}%'.format(100*y/len(df_demo)), (x.mean(), y), ha='center', va='bottom', size='17')"
   ]
  },
  {
   "cell_type": "code",
   "execution_count": 11,
   "metadata": {},
   "outputs": [
    {
     "data": {
      "text/html": [
       "<div>\n",
       "<style scoped>\n",
       "    .dataframe tbody tr th:only-of-type {\n",
       "        vertical-align: middle;\n",
       "    }\n",
       "\n",
       "    .dataframe tbody tr th {\n",
       "        vertical-align: top;\n",
       "    }\n",
       "\n",
       "    .dataframe thead th {\n",
       "        text-align: right;\n",
       "    }\n",
       "</style>\n",
       "<table border=\"1\" class=\"dataframe\">\n",
       "  <thead>\n",
       "    <tr style=\"text-align: right;\">\n",
       "      <th></th>\n",
       "      <th>customer_id</th>\n",
       "      <th>address</th>\n",
       "      <th>postcode</th>\n",
       "      <th>state</th>\n",
       "      <th>country</th>\n",
       "      <th>property_valuation</th>\n",
       "    </tr>\n",
       "  </thead>\n",
       "  <tbody>\n",
       "    <tr>\n",
       "      <th>0</th>\n",
       "      <td>1</td>\n",
       "      <td>060 Morning Avenue</td>\n",
       "      <td>2016</td>\n",
       "      <td>NSW</td>\n",
       "      <td>Australia</td>\n",
       "      <td>10</td>\n",
       "    </tr>\n",
       "    <tr>\n",
       "      <th>1</th>\n",
       "      <td>2</td>\n",
       "      <td>6 Meadow Vale Court</td>\n",
       "      <td>2153</td>\n",
       "      <td>NSW</td>\n",
       "      <td>Australia</td>\n",
       "      <td>10</td>\n",
       "    </tr>\n",
       "    <tr>\n",
       "      <th>2</th>\n",
       "      <td>4</td>\n",
       "      <td>0 Holy Cross Court</td>\n",
       "      <td>4211</td>\n",
       "      <td>QLD</td>\n",
       "      <td>Australia</td>\n",
       "      <td>9</td>\n",
       "    </tr>\n",
       "  </tbody>\n",
       "</table>\n",
       "</div>"
      ],
      "text/plain": [
       "   customer_id              address  postcode state    country  \\\n",
       "0            1   060 Morning Avenue      2016   NSW  Australia   \n",
       "1            2  6 Meadow Vale Court      2153   NSW  Australia   \n",
       "2            4   0 Holy Cross Court      4211   QLD  Australia   \n",
       "\n",
       "   property_valuation  \n",
       "0                  10  \n",
       "1                  10  \n",
       "2                   9  "
      ]
     },
     "execution_count": 11,
     "metadata": {},
     "output_type": "execute_result"
    }
   ],
   "source": [
    "df_custadd.head(3)"
   ]
  },
  {
   "cell_type": "code",
   "execution_count": 12,
   "metadata": {},
   "outputs": [
    {
     "name": "stdout",
     "output_type": "stream",
     "text": [
      "<class 'pandas.core.frame.DataFrame'>\n",
      "Int64Index: 3999 entries, 0 to 3998\n",
      "Data columns (total 6 columns):\n",
      " #   Column              Non-Null Count  Dtype \n",
      "---  ------              --------------  ----- \n",
      " 0   customer_id         3999 non-null   int64 \n",
      " 1   address             3999 non-null   object\n",
      " 2   postcode            3999 non-null   int64 \n",
      " 3   state               3999 non-null   object\n",
      " 4   country             3999 non-null   object\n",
      " 5   property_valuation  3999 non-null   int64 \n",
      "dtypes: int64(3), object(3)\n",
      "memory usage: 218.7+ KB\n"
     ]
    }
   ],
   "source": [
    "df_custadd.info()"
   ]
  },
  {
   "cell_type": "markdown",
   "metadata": {},
   "source": [
    "### 4. Merging customer demographic with customer address in new dataframe"
   ]
  },
  {
   "cell_type": "code",
   "execution_count": 13,
   "metadata": {},
   "outputs": [],
   "source": [
    "new_df = df_demo.merge(df_custadd, on = 'customer_id', how = 'inner')"
   ]
  },
  {
   "cell_type": "code",
   "execution_count": 14,
   "metadata": {},
   "outputs": [
    {
     "data": {
      "text/html": [
       "<div>\n",
       "<style scoped>\n",
       "    .dataframe tbody tr th:only-of-type {\n",
       "        vertical-align: middle;\n",
       "    }\n",
       "\n",
       "    .dataframe tbody tr th {\n",
       "        vertical-align: top;\n",
       "    }\n",
       "\n",
       "    .dataframe thead th {\n",
       "        text-align: right;\n",
       "    }\n",
       "</style>\n",
       "<table border=\"1\" class=\"dataframe\">\n",
       "  <thead>\n",
       "    <tr style=\"text-align: right;\">\n",
       "      <th></th>\n",
       "      <th>customer_id</th>\n",
       "      <th>gender</th>\n",
       "      <th>past_3_years_bike_related_purchases</th>\n",
       "      <th>DOB</th>\n",
       "      <th>job_title</th>\n",
       "      <th>job_industry_category</th>\n",
       "      <th>wealth_segment</th>\n",
       "      <th>deceased_indicator</th>\n",
       "      <th>owns_car</th>\n",
       "      <th>tenure</th>\n",
       "      <th>full_name</th>\n",
       "      <th>age</th>\n",
       "      <th>age_range</th>\n",
       "      <th>address</th>\n",
       "      <th>postcode</th>\n",
       "      <th>state</th>\n",
       "      <th>country</th>\n",
       "      <th>property_valuation</th>\n",
       "    </tr>\n",
       "  </thead>\n",
       "  <tbody>\n",
       "    <tr>\n",
       "      <th>0</th>\n",
       "      <td>1</td>\n",
       "      <td>F</td>\n",
       "      <td>93</td>\n",
       "      <td>1953-10-12</td>\n",
       "      <td>Executive Secretary</td>\n",
       "      <td>Health</td>\n",
       "      <td>Mass Customer</td>\n",
       "      <td>N</td>\n",
       "      <td>Yes</td>\n",
       "      <td>11.0</td>\n",
       "      <td>Laraine-Medendorp</td>\n",
       "      <td>69</td>\n",
       "      <td>(53.5, 70.25]</td>\n",
       "      <td>060 Morning Avenue</td>\n",
       "      <td>2016</td>\n",
       "      <td>NSW</td>\n",
       "      <td>Australia</td>\n",
       "      <td>10</td>\n",
       "    </tr>\n",
       "    <tr>\n",
       "      <th>1</th>\n",
       "      <td>2</td>\n",
       "      <td>M</td>\n",
       "      <td>81</td>\n",
       "      <td>1980-12-16</td>\n",
       "      <td>Administrative Officer</td>\n",
       "      <td>Financial Services</td>\n",
       "      <td>Mass Customer</td>\n",
       "      <td>N</td>\n",
       "      <td>Yes</td>\n",
       "      <td>16.0</td>\n",
       "      <td>Eli-Bockman</td>\n",
       "      <td>42</td>\n",
       "      <td>(36.75, 53.5]</td>\n",
       "      <td>6 Meadow Vale Court</td>\n",
       "      <td>2153</td>\n",
       "      <td>NSW</td>\n",
       "      <td>Australia</td>\n",
       "      <td>10</td>\n",
       "    </tr>\n",
       "    <tr>\n",
       "      <th>2</th>\n",
       "      <td>9</td>\n",
       "      <td>F</td>\n",
       "      <td>97</td>\n",
       "      <td>1973-03-10</td>\n",
       "      <td>Business Systems Development Analyst</td>\n",
       "      <td>Argiculture</td>\n",
       "      <td>Affluent Customer</td>\n",
       "      <td>N</td>\n",
       "      <td>Yes</td>\n",
       "      <td>8.0</td>\n",
       "      <td>Mala-Lind</td>\n",
       "      <td>49</td>\n",
       "      <td>(36.75, 53.5]</td>\n",
       "      <td>97736 7th Trail</td>\n",
       "      <td>2023</td>\n",
       "      <td>NSW</td>\n",
       "      <td>Australia</td>\n",
       "      <td>12</td>\n",
       "    </tr>\n",
       "  </tbody>\n",
       "</table>\n",
       "</div>"
      ],
      "text/plain": [
       "   customer_id gender  past_3_years_bike_related_purchases         DOB  \\\n",
       "0            1      F                                   93  1953-10-12   \n",
       "1            2      M                                   81  1980-12-16   \n",
       "2            9      F                                   97  1973-03-10   \n",
       "\n",
       "                              job_title job_industry_category  \\\n",
       "0                   Executive Secretary                Health   \n",
       "1                Administrative Officer    Financial Services   \n",
       "2  Business Systems Development Analyst           Argiculture   \n",
       "\n",
       "      wealth_segment deceased_indicator owns_car  tenure          full_name  \\\n",
       "0      Mass Customer                  N      Yes    11.0  Laraine-Medendorp   \n",
       "1      Mass Customer                  N      Yes    16.0        Eli-Bockman   \n",
       "2  Affluent Customer                  N      Yes     8.0          Mala-Lind   \n",
       "\n",
       "   age      age_range              address  postcode state    country  \\\n",
       "0   69  (53.5, 70.25]   060 Morning Avenue      2016   NSW  Australia   \n",
       "1   42  (36.75, 53.5]  6 Meadow Vale Court      2153   NSW  Australia   \n",
       "2   49  (36.75, 53.5]      97736 7th Trail      2023   NSW  Australia   \n",
       "\n",
       "   property_valuation  \n",
       "0                  10  \n",
       "1                  10  \n",
       "2                  12  "
      ]
     },
     "execution_count": 14,
     "metadata": {},
     "output_type": "execute_result"
    }
   ],
   "source": [
    "new_df.head(3)"
   ]
  },
  {
   "cell_type": "markdown",
   "metadata": {},
   "source": [
    "Now after having age of each customer, we don't need DOB, so we'll drop that column from the table"
   ]
  },
  {
   "cell_type": "code",
   "execution_count": 15,
   "metadata": {},
   "outputs": [
    {
     "data": {
      "text/html": [
       "<div>\n",
       "<style scoped>\n",
       "    .dataframe tbody tr th:only-of-type {\n",
       "        vertical-align: middle;\n",
       "    }\n",
       "\n",
       "    .dataframe tbody tr th {\n",
       "        vertical-align: top;\n",
       "    }\n",
       "\n",
       "    .dataframe thead th {\n",
       "        text-align: right;\n",
       "    }\n",
       "</style>\n",
       "<table border=\"1\" class=\"dataframe\">\n",
       "  <thead>\n",
       "    <tr style=\"text-align: right;\">\n",
       "      <th></th>\n",
       "      <th>customer_id</th>\n",
       "      <th>gender</th>\n",
       "      <th>past_3_years_bike_related_purchases</th>\n",
       "      <th>job_title</th>\n",
       "      <th>job_industry_category</th>\n",
       "      <th>wealth_segment</th>\n",
       "      <th>deceased_indicator</th>\n",
       "      <th>owns_car</th>\n",
       "      <th>tenure</th>\n",
       "      <th>full_name</th>\n",
       "      <th>age</th>\n",
       "      <th>age_range</th>\n",
       "      <th>address</th>\n",
       "      <th>postcode</th>\n",
       "      <th>state</th>\n",
       "      <th>country</th>\n",
       "      <th>property_valuation</th>\n",
       "    </tr>\n",
       "  </thead>\n",
       "  <tbody>\n",
       "    <tr>\n",
       "      <th>0</th>\n",
       "      <td>1</td>\n",
       "      <td>F</td>\n",
       "      <td>93</td>\n",
       "      <td>Executive Secretary</td>\n",
       "      <td>Health</td>\n",
       "      <td>Mass Customer</td>\n",
       "      <td>N</td>\n",
       "      <td>Yes</td>\n",
       "      <td>11.0</td>\n",
       "      <td>Laraine-Medendorp</td>\n",
       "      <td>69</td>\n",
       "      <td>(53.5, 70.25]</td>\n",
       "      <td>060 Morning Avenue</td>\n",
       "      <td>2016</td>\n",
       "      <td>NSW</td>\n",
       "      <td>Australia</td>\n",
       "      <td>10</td>\n",
       "    </tr>\n",
       "    <tr>\n",
       "      <th>1</th>\n",
       "      <td>2</td>\n",
       "      <td>M</td>\n",
       "      <td>81</td>\n",
       "      <td>Administrative Officer</td>\n",
       "      <td>Financial Services</td>\n",
       "      <td>Mass Customer</td>\n",
       "      <td>N</td>\n",
       "      <td>Yes</td>\n",
       "      <td>16.0</td>\n",
       "      <td>Eli-Bockman</td>\n",
       "      <td>42</td>\n",
       "      <td>(36.75, 53.5]</td>\n",
       "      <td>6 Meadow Vale Court</td>\n",
       "      <td>2153</td>\n",
       "      <td>NSW</td>\n",
       "      <td>Australia</td>\n",
       "      <td>10</td>\n",
       "    </tr>\n",
       "    <tr>\n",
       "      <th>2</th>\n",
       "      <td>9</td>\n",
       "      <td>F</td>\n",
       "      <td>97</td>\n",
       "      <td>Business Systems Development Analyst</td>\n",
       "      <td>Argiculture</td>\n",
       "      <td>Affluent Customer</td>\n",
       "      <td>N</td>\n",
       "      <td>Yes</td>\n",
       "      <td>8.0</td>\n",
       "      <td>Mala-Lind</td>\n",
       "      <td>49</td>\n",
       "      <td>(36.75, 53.5]</td>\n",
       "      <td>97736 7th Trail</td>\n",
       "      <td>2023</td>\n",
       "      <td>NSW</td>\n",
       "      <td>Australia</td>\n",
       "      <td>12</td>\n",
       "    </tr>\n",
       "    <tr>\n",
       "      <th>3</th>\n",
       "      <td>12</td>\n",
       "      <td>M</td>\n",
       "      <td>58</td>\n",
       "      <td>Nuclear Power Engineer</td>\n",
       "      <td>Manufacturing</td>\n",
       "      <td>Mass Customer</td>\n",
       "      <td>N</td>\n",
       "      <td>No</td>\n",
       "      <td>8.0</td>\n",
       "      <td>Sawyere-Flattman</td>\n",
       "      <td>28</td>\n",
       "      <td>(19.933, 36.75]</td>\n",
       "      <td>44339 Golden Leaf Alley</td>\n",
       "      <td>4557</td>\n",
       "      <td>QLD</td>\n",
       "      <td>Australia</td>\n",
       "      <td>4</td>\n",
       "    </tr>\n",
       "    <tr>\n",
       "      <th>4</th>\n",
       "      <td>13</td>\n",
       "      <td>M</td>\n",
       "      <td>38</td>\n",
       "      <td>Developer I</td>\n",
       "      <td>Financial Services</td>\n",
       "      <td>High Net Worth</td>\n",
       "      <td>N</td>\n",
       "      <td>Yes</td>\n",
       "      <td>8.0</td>\n",
       "      <td>Gabriele-Norcross</td>\n",
       "      <td>67</td>\n",
       "      <td>(53.5, 70.25]</td>\n",
       "      <td>2 Sutherland Street</td>\n",
       "      <td>3799</td>\n",
       "      <td>VIC</td>\n",
       "      <td>Australia</td>\n",
       "      <td>6</td>\n",
       "    </tr>\n",
       "    <tr>\n",
       "      <th>...</th>\n",
       "      <td>...</td>\n",
       "      <td>...</td>\n",
       "      <td>...</td>\n",
       "      <td>...</td>\n",
       "      <td>...</td>\n",
       "      <td>...</td>\n",
       "      <td>...</td>\n",
       "      <td>...</td>\n",
       "      <td>...</td>\n",
       "      <td>...</td>\n",
       "      <td>...</td>\n",
       "      <td>...</td>\n",
       "      <td>...</td>\n",
       "      <td>...</td>\n",
       "      <td>...</td>\n",
       "      <td>...</td>\n",
       "      <td>...</td>\n",
       "    </tr>\n",
       "    <tr>\n",
       "      <th>2856</th>\n",
       "      <td>3993</td>\n",
       "      <td>F</td>\n",
       "      <td>6</td>\n",
       "      <td>Librarian</td>\n",
       "      <td>Entertainment</td>\n",
       "      <td>Mass Customer</td>\n",
       "      <td>N</td>\n",
       "      <td>No</td>\n",
       "      <td>10.0</td>\n",
       "      <td>Andi-Dumelow</td>\n",
       "      <td>48</td>\n",
       "      <td>(36.75, 53.5]</td>\n",
       "      <td>681 Elmside Place</td>\n",
       "      <td>3750</td>\n",
       "      <td>VIC</td>\n",
       "      <td>Australia</td>\n",
       "      <td>6</td>\n",
       "    </tr>\n",
       "    <tr>\n",
       "      <th>2857</th>\n",
       "      <td>3994</td>\n",
       "      <td>F</td>\n",
       "      <td>5</td>\n",
       "      <td>Structural Analysis Engineer</td>\n",
       "      <td>Manufacturing</td>\n",
       "      <td>Affluent Customer</td>\n",
       "      <td>N</td>\n",
       "      <td>No</td>\n",
       "      <td>12.0</td>\n",
       "      <td>Stephie-Byars</td>\n",
       "      <td>33</td>\n",
       "      <td>(19.933, 36.75]</td>\n",
       "      <td>2918 Summer Ridge Hill</td>\n",
       "      <td>3030</td>\n",
       "      <td>VIC</td>\n",
       "      <td>Australia</td>\n",
       "      <td>2</td>\n",
       "    </tr>\n",
       "    <tr>\n",
       "      <th>2858</th>\n",
       "      <td>3995</td>\n",
       "      <td>M</td>\n",
       "      <td>93</td>\n",
       "      <td>Staff Scientist</td>\n",
       "      <td>Manufacturing</td>\n",
       "      <td>Mass Customer</td>\n",
       "      <td>N</td>\n",
       "      <td>Yes</td>\n",
       "      <td>14.0</td>\n",
       "      <td>Rusty-Iapico</td>\n",
       "      <td>47</td>\n",
       "      <td>(36.75, 53.5]</td>\n",
       "      <td>613 Erie Lane</td>\n",
       "      <td>2088</td>\n",
       "      <td>NSW</td>\n",
       "      <td>Australia</td>\n",
       "      <td>12</td>\n",
       "    </tr>\n",
       "    <tr>\n",
       "      <th>2859</th>\n",
       "      <td>3996</td>\n",
       "      <td>F</td>\n",
       "      <td>8</td>\n",
       "      <td>VP Product Management</td>\n",
       "      <td>Health</td>\n",
       "      <td>Mass Customer</td>\n",
       "      <td>N</td>\n",
       "      <td>No</td>\n",
       "      <td>19.0</td>\n",
       "      <td>Rosalia-Halgarth</td>\n",
       "      <td>47</td>\n",
       "      <td>(36.75, 53.5]</td>\n",
       "      <td>0 Transport Center</td>\n",
       "      <td>3977</td>\n",
       "      <td>VIC</td>\n",
       "      <td>Australia</td>\n",
       "      <td>6</td>\n",
       "    </tr>\n",
       "    <tr>\n",
       "      <th>2860</th>\n",
       "      <td>3997</td>\n",
       "      <td>F</td>\n",
       "      <td>87</td>\n",
       "      <td>Statistician II</td>\n",
       "      <td>Manufacturing</td>\n",
       "      <td>High Net Worth</td>\n",
       "      <td>N</td>\n",
       "      <td>Yes</td>\n",
       "      <td>1.0</td>\n",
       "      <td>Blanch-Nisuis</td>\n",
       "      <td>21</td>\n",
       "      <td>(19.933, 36.75]</td>\n",
       "      <td>4 Dovetail Crossing</td>\n",
       "      <td>2350</td>\n",
       "      <td>NSW</td>\n",
       "      <td>Australia</td>\n",
       "      <td>2</td>\n",
       "    </tr>\n",
       "  </tbody>\n",
       "</table>\n",
       "<p>2861 rows × 17 columns</p>\n",
       "</div>"
      ],
      "text/plain": [
       "      customer_id gender  past_3_years_bike_related_purchases  \\\n",
       "0               1      F                                   93   \n",
       "1               2      M                                   81   \n",
       "2               9      F                                   97   \n",
       "3              12      M                                   58   \n",
       "4              13      M                                   38   \n",
       "...           ...    ...                                  ...   \n",
       "2856         3993      F                                    6   \n",
       "2857         3994      F                                    5   \n",
       "2858         3995      M                                   93   \n",
       "2859         3996      F                                    8   \n",
       "2860         3997      F                                   87   \n",
       "\n",
       "                                 job_title job_industry_category  \\\n",
       "0                      Executive Secretary                Health   \n",
       "1                   Administrative Officer    Financial Services   \n",
       "2     Business Systems Development Analyst           Argiculture   \n",
       "3                   Nuclear Power Engineer         Manufacturing   \n",
       "4                              Developer I    Financial Services   \n",
       "...                                    ...                   ...   \n",
       "2856                             Librarian         Entertainment   \n",
       "2857          Structural Analysis Engineer         Manufacturing   \n",
       "2858                       Staff Scientist         Manufacturing   \n",
       "2859                 VP Product Management                Health   \n",
       "2860                       Statistician II         Manufacturing   \n",
       "\n",
       "         wealth_segment deceased_indicator owns_car  tenure  \\\n",
       "0         Mass Customer                  N      Yes    11.0   \n",
       "1         Mass Customer                  N      Yes    16.0   \n",
       "2     Affluent Customer                  N      Yes     8.0   \n",
       "3         Mass Customer                  N       No     8.0   \n",
       "4        High Net Worth                  N      Yes     8.0   \n",
       "...                 ...                ...      ...     ...   \n",
       "2856      Mass Customer                  N       No    10.0   \n",
       "2857  Affluent Customer                  N       No    12.0   \n",
       "2858      Mass Customer                  N      Yes    14.0   \n",
       "2859      Mass Customer                  N       No    19.0   \n",
       "2860     High Net Worth                  N      Yes     1.0   \n",
       "\n",
       "              full_name  age        age_range                  address  \\\n",
       "0     Laraine-Medendorp   69    (53.5, 70.25]       060 Morning Avenue   \n",
       "1           Eli-Bockman   42    (36.75, 53.5]      6 Meadow Vale Court   \n",
       "2             Mala-Lind   49    (36.75, 53.5]          97736 7th Trail   \n",
       "3      Sawyere-Flattman   28  (19.933, 36.75]  44339 Golden Leaf Alley   \n",
       "4     Gabriele-Norcross   67    (53.5, 70.25]      2 Sutherland Street   \n",
       "...                 ...  ...              ...                      ...   \n",
       "2856       Andi-Dumelow   48    (36.75, 53.5]        681 Elmside Place   \n",
       "2857      Stephie-Byars   33  (19.933, 36.75]   2918 Summer Ridge Hill   \n",
       "2858       Rusty-Iapico   47    (36.75, 53.5]            613 Erie Lane   \n",
       "2859   Rosalia-Halgarth   47    (36.75, 53.5]       0 Transport Center   \n",
       "2860      Blanch-Nisuis   21  (19.933, 36.75]      4 Dovetail Crossing   \n",
       "\n",
       "      postcode state    country  property_valuation  \n",
       "0         2016   NSW  Australia                  10  \n",
       "1         2153   NSW  Australia                  10  \n",
       "2         2023   NSW  Australia                  12  \n",
       "3         4557   QLD  Australia                   4  \n",
       "4         3799   VIC  Australia                   6  \n",
       "...        ...   ...        ...                 ...  \n",
       "2856      3750   VIC  Australia                   6  \n",
       "2857      3030   VIC  Australia                   2  \n",
       "2858      2088   NSW  Australia                  12  \n",
       "2859      3977   VIC  Australia                   6  \n",
       "2860      2350   NSW  Australia                   2  \n",
       "\n",
       "[2861 rows x 17 columns]"
      ]
     },
     "execution_count": 15,
     "metadata": {},
     "output_type": "execute_result"
    }
   ],
   "source": [
    "new_df.drop(['DOB'], axis = 1)"
   ]
  },
  {
   "cell_type": "code",
   "execution_count": 16,
   "metadata": {},
   "outputs": [
    {
     "data": {
      "text/plain": [
       "customer_id                            0\n",
       "gender                                 0\n",
       "past_3_years_bike_related_purchases    0\n",
       "DOB                                    0\n",
       "job_title                              0\n",
       "job_industry_category                  0\n",
       "wealth_segment                         0\n",
       "deceased_indicator                     0\n",
       "owns_car                               0\n",
       "tenure                                 0\n",
       "full_name                              0\n",
       "age                                    0\n",
       "age_range                              0\n",
       "address                                0\n",
       "postcode                               0\n",
       "state                                  0\n",
       "country                                0\n",
       "property_valuation                     0\n",
       "dtype: int64"
      ]
     },
     "execution_count": 16,
     "metadata": {},
     "output_type": "execute_result"
    }
   ],
   "source": [
    "new_df.isnull().sum()"
   ]
  },
  {
   "cell_type": "code",
   "execution_count": 17,
   "metadata": {},
   "outputs": [
    {
     "data": {
      "image/png": "[encoded data removed]",
      "text/plain": [
       "<Figure size 432x432 with 1 Axes>"
      ]
     },
     "metadata": {
      "needs_background": "light"
     },
     "output_type": "display_data"
    }
   ],
   "source": [
    "car_df = new_df.groupby('state')['past_3_years_bike_related_purchases'].sum().reset_index(name='total_state')\n",
    "plt.figure(figsize=(6,6))\n",
    "g = sns.barplot(x = car_df['state'], y = car_df['total_state'], data = car_df)\n",
    "plt.title('State-wise bike purchase in past 3 years by old customers')\n",
    "\n",
    "for p in g.patches:\n",
    "    x=p.get_bbox().get_points()[:,0]\n",
    "    y=p.get_bbox().get_points()[1,1]\n",
    "    g.annotate('{:.1f}%'.format(100*y/len(df_demo)), (x.mean(), y), ha='center', va='bottom', size='10')"
   ]
  },
  {
   "cell_type": "code",
   "execution_count": 18,
   "metadata": {},
   "outputs": [
    {
     "data": {
      "text/html": [
       "<div>\n",
       "<style scoped>\n",
       "    .dataframe tbody tr th:only-of-type {\n",
       "        vertical-align: middle;\n",
       "    }\n",
       "\n",
       "    .dataframe tbody tr th {\n",
       "        vertical-align: top;\n",
       "    }\n",
       "\n",
       "    .dataframe thead th {\n",
       "        text-align: right;\n",
       "    }\n",
       "</style>\n",
       "<table border=\"1\" class=\"dataframe\">\n",
       "  <thead>\n",
       "    <tr style=\"text-align: right;\">\n",
       "      <th></th>\n",
       "      <th>transaction_id</th>\n",
       "      <th>product_id</th>\n",
       "      <th>customer_id</th>\n",
       "      <th>transaction_date</th>\n",
       "      <th>online_order</th>\n",
       "      <th>order_status</th>\n",
       "      <th>brand</th>\n",
       "      <th>product_line</th>\n",
       "      <th>product_class</th>\n",
       "      <th>product_size</th>\n",
       "      <th>list_price</th>\n",
       "      <th>standard_cost</th>\n",
       "      <th>product_first_sold_date</th>\n",
       "      <th>Profit Margin</th>\n",
       "    </tr>\n",
       "  </thead>\n",
       "  <tbody>\n",
       "    <tr>\n",
       "      <th>0</th>\n",
       "      <td>1</td>\n",
       "      <td>2</td>\n",
       "      <td>2950</td>\n",
       "      <td>2017-02-25</td>\n",
       "      <td>0.0</td>\n",
       "      <td>Approved</td>\n",
       "      <td>Solex</td>\n",
       "      <td>Standard</td>\n",
       "      <td>medium</td>\n",
       "      <td>medium</td>\n",
       "      <td>71.49</td>\n",
       "      <td>53.62</td>\n",
       "      <td>1970-01-01</td>\n",
       "      <td>17.87</td>\n",
       "    </tr>\n",
       "    <tr>\n",
       "      <th>1</th>\n",
       "      <td>2</td>\n",
       "      <td>3</td>\n",
       "      <td>3120</td>\n",
       "      <td>2017-05-21</td>\n",
       "      <td>1.0</td>\n",
       "      <td>Approved</td>\n",
       "      <td>Trek Bicycles</td>\n",
       "      <td>Standard</td>\n",
       "      <td>medium</td>\n",
       "      <td>large</td>\n",
       "      <td>2091.47</td>\n",
       "      <td>388.92</td>\n",
       "      <td>1970-01-01</td>\n",
       "      <td>1702.55</td>\n",
       "    </tr>\n",
       "    <tr>\n",
       "      <th>2</th>\n",
       "      <td>3</td>\n",
       "      <td>37</td>\n",
       "      <td>402</td>\n",
       "      <td>2017-10-16</td>\n",
       "      <td>0.0</td>\n",
       "      <td>Approved</td>\n",
       "      <td>OHM Cycles</td>\n",
       "      <td>Standard</td>\n",
       "      <td>low</td>\n",
       "      <td>medium</td>\n",
       "      <td>1793.43</td>\n",
       "      <td>248.82</td>\n",
       "      <td>1970-01-01</td>\n",
       "      <td>1544.61</td>\n",
       "    </tr>\n",
       "  </tbody>\n",
       "</table>\n",
       "</div>"
      ],
      "text/plain": [
       "   transaction_id  product_id  customer_id transaction_date  online_order  \\\n",
       "0               1           2         2950       2017-02-25           0.0   \n",
       "1               2           3         3120       2017-05-21           1.0   \n",
       "2               3          37          402       2017-10-16           0.0   \n",
       "\n",
       "  order_status          brand product_line product_class product_size  \\\n",
       "0     Approved          Solex     Standard        medium       medium   \n",
       "1     Approved  Trek Bicycles     Standard        medium        large   \n",
       "2     Approved     OHM Cycles     Standard           low       medium   \n",
       "\n",
       "   list_price  standard_cost product_first_sold_date  Profit Margin  \n",
       "0       71.49          53.62              1970-01-01          17.87  \n",
       "1     2091.47         388.92              1970-01-01        1702.55  \n",
       "2     1793.43         248.82              1970-01-01        1544.61  "
      ]
     },
     "execution_count": 18,
     "metadata": {},
     "output_type": "execute_result"
    }
   ],
   "source": [
    "df_transaction.head(3)"
   ]
  },
  {
   "cell_type": "code",
   "execution_count": 19,
   "metadata": {},
   "outputs": [
    {
     "name": "stdout",
     "output_type": "stream",
     "text": [
      "<class 'pandas.core.frame.DataFrame'>\n",
      "Int64Index: 19445 entries, 0 to 19999\n",
      "Data columns (total 14 columns):\n",
      " #   Column                   Non-Null Count  Dtype  \n",
      "---  ------                   --------------  -----  \n",
      " 0   transaction_id           19445 non-null  int64  \n",
      " 1   product_id               19445 non-null  int64  \n",
      " 2   customer_id              19445 non-null  int64  \n",
      " 3   transaction_date         19445 non-null  object \n",
      " 4   online_order             19445 non-null  float64\n",
      " 5   order_status             19445 non-null  object \n",
      " 6   brand                    19445 non-null  object \n",
      " 7   product_line             19445 non-null  object \n",
      " 8   product_class            19445 non-null  object \n",
      " 9   product_size             19445 non-null  object \n",
      " 10  list_price               19445 non-null  float64\n",
      " 11  standard_cost            19445 non-null  float64\n",
      " 12  product_first_sold_date  19445 non-null  object \n",
      " 13  Profit Margin            19445 non-null  float64\n",
      "dtypes: float64(4), int64(3), object(7)\n",
      "memory usage: 2.2+ MB\n"
     ]
    }
   ],
   "source": [
    "df_transaction.info()"
   ]
  },
  {
   "cell_type": "markdown",
   "metadata": {},
   "source": [
    "### Format changing "
   ]
  },
  {
   "cell_type": "markdown",
   "metadata": {},
   "source": [
    "We can see here the product first sold date is not in right readable format, so we will correct it"
   ]
  },
  {
   "cell_type": "code",
   "execution_count": 20,
   "metadata": {},
   "outputs": [],
   "source": [
    "df_transaction['product_first_sold_date'] = pd.to_datetime(df_transaction['product_first_sold_date']).dt.date"
   ]
  },
  {
   "cell_type": "code",
   "execution_count": 21,
   "metadata": {
    "scrolled": false
   },
   "outputs": [
    {
     "name": "stdout",
     "output_type": "stream",
     "text": [
      "<class 'pandas.core.frame.DataFrame'>\n",
      "Int64Index: 19445 entries, 0 to 19999\n",
      "Data columns (total 14 columns):\n",
      " #   Column                   Non-Null Count  Dtype  \n",
      "---  ------                   --------------  -----  \n",
      " 0   transaction_id           19445 non-null  int64  \n",
      " 1   product_id               19445 non-null  int64  \n",
      " 2   customer_id              19445 non-null  int64  \n",
      " 3   transaction_date         19445 non-null  object \n",
      " 4   online_order             19445 non-null  float64\n",
      " 5   order_status             19445 non-null  object \n",
      " 6   brand                    19445 non-null  object \n",
      " 7   product_line             19445 non-null  object \n",
      " 8   product_class            19445 non-null  object \n",
      " 9   product_size             19445 non-null  object \n",
      " 10  list_price               19445 non-null  float64\n",
      " 11  standard_cost            19445 non-null  float64\n",
      " 12  product_first_sold_date  19445 non-null  object \n",
      " 13  Profit Margin            19445 non-null  float64\n",
      "dtypes: float64(4), int64(3), object(7)\n",
      "memory usage: 2.2+ MB\n"
     ]
    }
   ],
   "source": [
    "df_transaction.info()"
   ]
  },
  {
   "cell_type": "markdown",
   "metadata": {},
   "source": [
    "### Adding new column 'Profit Margin' to check the profile on transaction "
   ]
  },
  {
   "cell_type": "code",
   "execution_count": 22,
   "metadata": {},
   "outputs": [
    {
     "data": {
      "text/html": [
       "<div>\n",
       "<style scoped>\n",
       "    .dataframe tbody tr th:only-of-type {\n",
       "        vertical-align: middle;\n",
       "    }\n",
       "\n",
       "    .dataframe tbody tr th {\n",
       "        vertical-align: top;\n",
       "    }\n",
       "\n",
       "    .dataframe thead th {\n",
       "        text-align: right;\n",
       "    }\n",
       "</style>\n",
       "<table border=\"1\" class=\"dataframe\">\n",
       "  <thead>\n",
       "    <tr style=\"text-align: right;\">\n",
       "      <th></th>\n",
       "      <th>transaction_id</th>\n",
       "      <th>product_id</th>\n",
       "      <th>customer_id</th>\n",
       "      <th>transaction_date</th>\n",
       "      <th>online_order</th>\n",
       "      <th>order_status</th>\n",
       "      <th>brand</th>\n",
       "      <th>product_line</th>\n",
       "      <th>product_class</th>\n",
       "      <th>product_size</th>\n",
       "      <th>list_price</th>\n",
       "      <th>standard_cost</th>\n",
       "      <th>product_first_sold_date</th>\n",
       "      <th>Profit Margin</th>\n",
       "    </tr>\n",
       "  </thead>\n",
       "  <tbody>\n",
       "    <tr>\n",
       "      <th>0</th>\n",
       "      <td>1</td>\n",
       "      <td>2</td>\n",
       "      <td>2950</td>\n",
       "      <td>2017-02-25</td>\n",
       "      <td>0.0</td>\n",
       "      <td>Approved</td>\n",
       "      <td>Solex</td>\n",
       "      <td>Standard</td>\n",
       "      <td>medium</td>\n",
       "      <td>medium</td>\n",
       "      <td>71.49</td>\n",
       "      <td>53.62</td>\n",
       "      <td>1970-01-01</td>\n",
       "      <td>17.87</td>\n",
       "    </tr>\n",
       "    <tr>\n",
       "      <th>1</th>\n",
       "      <td>2</td>\n",
       "      <td>3</td>\n",
       "      <td>3120</td>\n",
       "      <td>2017-05-21</td>\n",
       "      <td>1.0</td>\n",
       "      <td>Approved</td>\n",
       "      <td>Trek Bicycles</td>\n",
       "      <td>Standard</td>\n",
       "      <td>medium</td>\n",
       "      <td>large</td>\n",
       "      <td>2091.47</td>\n",
       "      <td>388.92</td>\n",
       "      <td>1970-01-01</td>\n",
       "      <td>1702.55</td>\n",
       "    </tr>\n",
       "    <tr>\n",
       "      <th>2</th>\n",
       "      <td>3</td>\n",
       "      <td>37</td>\n",
       "      <td>402</td>\n",
       "      <td>2017-10-16</td>\n",
       "      <td>0.0</td>\n",
       "      <td>Approved</td>\n",
       "      <td>OHM Cycles</td>\n",
       "      <td>Standard</td>\n",
       "      <td>low</td>\n",
       "      <td>medium</td>\n",
       "      <td>1793.43</td>\n",
       "      <td>248.82</td>\n",
       "      <td>1970-01-01</td>\n",
       "      <td>1544.61</td>\n",
       "    </tr>\n",
       "    <tr>\n",
       "      <th>3</th>\n",
       "      <td>4</td>\n",
       "      <td>88</td>\n",
       "      <td>3135</td>\n",
       "      <td>2017-08-31</td>\n",
       "      <td>0.0</td>\n",
       "      <td>Approved</td>\n",
       "      <td>Norco Bicycles</td>\n",
       "      <td>Standard</td>\n",
       "      <td>medium</td>\n",
       "      <td>medium</td>\n",
       "      <td>1198.46</td>\n",
       "      <td>381.10</td>\n",
       "      <td>1970-01-01</td>\n",
       "      <td>817.36</td>\n",
       "    </tr>\n",
       "    <tr>\n",
       "      <th>4</th>\n",
       "      <td>5</td>\n",
       "      <td>78</td>\n",
       "      <td>787</td>\n",
       "      <td>2017-10-01</td>\n",
       "      <td>1.0</td>\n",
       "      <td>Approved</td>\n",
       "      <td>Giant Bicycles</td>\n",
       "      <td>Standard</td>\n",
       "      <td>medium</td>\n",
       "      <td>large</td>\n",
       "      <td>1765.30</td>\n",
       "      <td>709.48</td>\n",
       "      <td>1970-01-01</td>\n",
       "      <td>1055.82</td>\n",
       "    </tr>\n",
       "  </tbody>\n",
       "</table>\n",
       "</div>"
      ],
      "text/plain": [
       "   transaction_id  product_id  customer_id transaction_date  online_order  \\\n",
       "0               1           2         2950       2017-02-25           0.0   \n",
       "1               2           3         3120       2017-05-21           1.0   \n",
       "2               3          37          402       2017-10-16           0.0   \n",
       "3               4          88         3135       2017-08-31           0.0   \n",
       "4               5          78          787       2017-10-01           1.0   \n",
       "\n",
       "  order_status           brand product_line product_class product_size  \\\n",
       "0     Approved           Solex     Standard        medium       medium   \n",
       "1     Approved   Trek Bicycles     Standard        medium        large   \n",
       "2     Approved      OHM Cycles     Standard           low       medium   \n",
       "3     Approved  Norco Bicycles     Standard        medium       medium   \n",
       "4     Approved  Giant Bicycles     Standard        medium        large   \n",
       "\n",
       "   list_price  standard_cost product_first_sold_date  Profit Margin  \n",
       "0       71.49          53.62              1970-01-01          17.87  \n",
       "1     2091.47         388.92              1970-01-01        1702.55  \n",
       "2     1793.43         248.82              1970-01-01        1544.61  \n",
       "3     1198.46         381.10              1970-01-01         817.36  \n",
       "4     1765.30         709.48              1970-01-01        1055.82  "
      ]
     },
     "execution_count": 22,
     "metadata": {},
     "output_type": "execute_result"
    }
   ],
   "source": [
    "df_transaction['Profit Margin'] = df_transaction['list_price'] - df_transaction['standard_cost']\n",
    "df_transaction.head()"
   ]
  },
  {
   "cell_type": "markdown",
   "metadata": {},
   "source": [
    "### merging new dataframe with transaction and creating a dataframe with all three updated files"
   ]
  },
  {
   "cell_type": "code",
   "execution_count": 23,
   "metadata": {},
   "outputs": [],
   "source": [
    "df_demoaddtrans = new_df.merge(df_transaction, on = 'customer_id', how = 'inner')"
   ]
  },
  {
   "cell_type": "code",
   "execution_count": 58,
   "metadata": {},
   "outputs": [],
   "source": [
    "# saving this new merged dataframe into csv file\n",
    "df_demoaddtrans.to_csv('DemoAddTrans.csv')"
   ]
  },
  {
   "cell_type": "code",
   "execution_count": 24,
   "metadata": {},
   "outputs": [
    {
     "name": "stdout",
     "output_type": "stream",
     "text": [
      "<class 'pandas.core.frame.DataFrame'>\n",
      "Int64Index: 14044 entries, 0 to 14043\n",
      "Data columns (total 31 columns):\n",
      " #   Column                               Non-Null Count  Dtype   \n",
      "---  ------                               --------------  -----   \n",
      " 0   customer_id                          14044 non-null  int64   \n",
      " 1   gender                               14044 non-null  object  \n",
      " 2   past_3_years_bike_related_purchases  14044 non-null  int64   \n",
      " 3   DOB                                  14044 non-null  object  \n",
      " 4   job_title                            14044 non-null  object  \n",
      " 5   job_industry_category                14044 non-null  object  \n",
      " 6   wealth_segment                       14044 non-null  object  \n",
      " 7   deceased_indicator                   14044 non-null  object  \n",
      " 8   owns_car                             14044 non-null  object  \n",
      " 9   tenure                               14044 non-null  float64 \n",
      " 10  full_name                            14044 non-null  object  \n",
      " 11  age                                  14044 non-null  int64   \n",
      " 12  age_range                            14044 non-null  category\n",
      " 13  address                              14044 non-null  object  \n",
      " 14  postcode                             14044 non-null  int64   \n",
      " 15  state                                14044 non-null  object  \n",
      " 16  country                              14044 non-null  object  \n",
      " 17  property_valuation                   14044 non-null  int64   \n",
      " 18  transaction_id                       14044 non-null  int64   \n",
      " 19  product_id                           14044 non-null  int64   \n",
      " 20  transaction_date                     14044 non-null  object  \n",
      " 21  online_order                         14044 non-null  float64 \n",
      " 22  order_status                         14044 non-null  object  \n",
      " 23  brand                                14044 non-null  object  \n",
      " 24  product_line                         14044 non-null  object  \n",
      " 25  product_class                        14044 non-null  object  \n",
      " 26  product_size                         14044 non-null  object  \n",
      " 27  list_price                           14044 non-null  float64 \n",
      " 28  standard_cost                        14044 non-null  float64 \n",
      " 29  product_first_sold_date              14044 non-null  object  \n",
      " 30  Profit Margin                        14044 non-null  float64 \n",
      "dtypes: category(1), float64(5), int64(7), object(18)\n",
      "memory usage: 3.3+ MB\n"
     ]
    }
   ],
   "source": [
    "df_demoaddtrans.info()"
   ]
  },
  {
   "cell_type": "markdown",
   "metadata": {},
   "source": [
    "Now we'll calculate number of transaction with the customers on the basis of car ownership"
   ]
  },
  {
   "cell_type": "code",
   "execution_count": 25,
   "metadata": {},
   "outputs": [
    {
     "data": {
      "image/png": "[encoded data removed]",
      "text/plain": [
       "<Figure size 1080x432 with 1 Axes>"
      ]
     },
     "metadata": {
      "needs_background": "light"
     },
     "output_type": "display_data"
    }
   ],
   "source": [
    "wealth_df = df_demoaddtrans.groupby(['age_range', 'wealth_segment'])['transaction_id'].count().reset_index(name='no_of_transactions').sort_values(by=['no_of_transactions'], ascending=False)\n",
    "\n",
    "plt.figure(figsize=(15,6))\n",
    "g = sns.barplot(x = wealth_df['age_range'], y = wealth_df['no_of_transactions'], hue = wealth_df['wealth_segment'])\n",
    "plt.title('Transaction count for each wealth segment on the basis of age-range')\n",
    "\n",
    "for p in g.patches:\n",
    "    x=p.get_bbox().get_points()[:,0]\n",
    "    y=p.get_bbox().get_points()[1,1]\n",
    "    g.annotate('{:.1f}%'.format(100*y/len(df_demo)), (x.mean(), y), ha='center', va='bottom', size='10')"
   ]
  },
  {
   "cell_type": "code",
   "execution_count": 26,
   "metadata": {},
   "outputs": [
    {
     "data": {
      "text/html": [
       "<div>\n",
       "<style scoped>\n",
       "    .dataframe tbody tr th:only-of-type {\n",
       "        vertical-align: middle;\n",
       "    }\n",
       "\n",
       "    .dataframe tbody tr th {\n",
       "        vertical-align: top;\n",
       "    }\n",
       "\n",
       "    .dataframe thead th {\n",
       "        text-align: right;\n",
       "    }\n",
       "</style>\n",
       "<table border=\"1\" class=\"dataframe\">\n",
       "  <thead>\n",
       "    <tr style=\"text-align: right;\">\n",
       "      <th></th>\n",
       "      <th>state</th>\n",
       "      <th>owns_car</th>\n",
       "      <th>count_owns_car</th>\n",
       "    </tr>\n",
       "  </thead>\n",
       "  <tbody>\n",
       "    <tr>\n",
       "      <th>0</th>\n",
       "      <td>NSW</td>\n",
       "      <td>Yes</td>\n",
       "      <td>3791</td>\n",
       "    </tr>\n",
       "    <tr>\n",
       "      <th>1</th>\n",
       "      <td>NSW</td>\n",
       "      <td>No</td>\n",
       "      <td>3637</td>\n",
       "    </tr>\n",
       "    <tr>\n",
       "      <th>2</th>\n",
       "      <td>QLD</td>\n",
       "      <td>No</td>\n",
       "      <td>1555</td>\n",
       "    </tr>\n",
       "    <tr>\n",
       "      <th>3</th>\n",
       "      <td>QLD</td>\n",
       "      <td>Yes</td>\n",
       "      <td>1555</td>\n",
       "    </tr>\n",
       "    <tr>\n",
       "      <th>4</th>\n",
       "      <td>VIC</td>\n",
       "      <td>Yes</td>\n",
       "      <td>1765</td>\n",
       "    </tr>\n",
       "    <tr>\n",
       "      <th>5</th>\n",
       "      <td>VIC</td>\n",
       "      <td>No</td>\n",
       "      <td>1741</td>\n",
       "    </tr>\n",
       "  </tbody>\n",
       "</table>\n",
       "</div>"
      ],
      "text/plain": [
       "  state owns_car  count_owns_car\n",
       "0   NSW      Yes            3791\n",
       "1   NSW       No            3637\n",
       "2   QLD       No            1555\n",
       "3   QLD      Yes            1555\n",
       "4   VIC      Yes            1765\n",
       "5   VIC       No            1741"
      ]
     },
     "execution_count": 26,
     "metadata": {},
     "output_type": "execute_result"
    }
   ],
   "source": [
    "cars = df_demoaddtrans.groupby('state')['owns_car'].value_counts().reset_index(name='count_owns_car')\n",
    "cars"
   ]
  },
  {
   "cell_type": "code",
   "execution_count": 27,
   "metadata": {},
   "outputs": [
    {
     "data": {
      "image/png": "[encoded data removed]",
      "text/plain": [
       "<Figure size 720x432 with 1 Axes>"
      ]
     },
     "metadata": {
      "needs_background": "light"
     },
     "output_type": "display_data"
    }
   ],
   "source": [
    "plt.figure(figsize=(10,6))\n",
    "\n",
    "g = sns.barplot(x = cars['state'], y = cars['count_owns_car'], hue= cars['owns_car'], data = cars)\n",
    "plt.title('State-wise car owns by old customers')\n",
    "for p in g.patches:\n",
    "    g.annotate(format(p.get_height(), '.0f'), (p.get_x() + p.get_width() / 2., p.get_height()), ha = 'center', va = 'center', xytext = (0, 10), size='17', textcoords = 'offset points')"
   ]
  },
  {
   "cell_type": "markdown",
   "metadata": {},
   "source": [
    "**customer_id :** Unique ID for each customer <br>\n",
    "**transaction_id :** Unique ID for every time a consumer orders <br>\n",
    "**product_id :** Unique ID for each product <br>\n",
    "**transaction_date :** Date, when the transaction is made <br>\n",
    "**list_price :** The price listed for each product for customers to buy <br>\n",
    "**standard_cost :** The ground cost of the product, that costs to the seller <br>\n",
    "**product_first_sold_date:** when the product is been ordered <br>\n",
    "**Profit_Margin :** How much the company earn by selling the product <br>\n",
    "**State:** Location, where the transaction happened"
   ]
  },
  {
   "cell_type": "code",
   "execution_count": 28,
   "metadata": {
    "scrolled": false
   },
   "outputs": [
    {
     "data": {
      "text/html": [
       "<div>\n",
       "<style scoped>\n",
       "    .dataframe tbody tr th:only-of-type {\n",
       "        vertical-align: middle;\n",
       "    }\n",
       "\n",
       "    .dataframe tbody tr th {\n",
       "        vertical-align: top;\n",
       "    }\n",
       "\n",
       "    .dataframe thead th {\n",
       "        text-align: right;\n",
       "    }\n",
       "</style>\n",
       "<table border=\"1\" class=\"dataframe\">\n",
       "  <thead>\n",
       "    <tr style=\"text-align: right;\">\n",
       "      <th></th>\n",
       "      <th>customer_id</th>\n",
       "      <th>age_range</th>\n",
       "      <th>transaction_id</th>\n",
       "      <th>transaction_date</th>\n",
       "      <th>product_id</th>\n",
       "      <th>list_price</th>\n",
       "      <th>standard_cost</th>\n",
       "      <th>product_first_sold_date</th>\n",
       "      <th>Profit Margin</th>\n",
       "      <th>state</th>\n",
       "    </tr>\n",
       "  </thead>\n",
       "  <tbody>\n",
       "    <tr>\n",
       "      <th>0</th>\n",
       "      <td>1</td>\n",
       "      <td>(53.5, 70.25]</td>\n",
       "      <td>94</td>\n",
       "      <td>2017-12-23</td>\n",
       "      <td>86</td>\n",
       "      <td>235.63</td>\n",
       "      <td>125.07</td>\n",
       "      <td>1970-01-01</td>\n",
       "      <td>110.56</td>\n",
       "      <td>NSW</td>\n",
       "    </tr>\n",
       "    <tr>\n",
       "      <th>1</th>\n",
       "      <td>1</td>\n",
       "      <td>(53.5, 70.25]</td>\n",
       "      <td>3765</td>\n",
       "      <td>2017-04-06</td>\n",
       "      <td>38</td>\n",
       "      <td>1577.53</td>\n",
       "      <td>826.51</td>\n",
       "      <td>1970-01-01</td>\n",
       "      <td>751.02</td>\n",
       "      <td>NSW</td>\n",
       "    </tr>\n",
       "    <tr>\n",
       "      <th>2</th>\n",
       "      <td>1</td>\n",
       "      <td>(53.5, 70.25]</td>\n",
       "      <td>5157</td>\n",
       "      <td>2017-05-11</td>\n",
       "      <td>47</td>\n",
       "      <td>1720.70</td>\n",
       "      <td>1531.42</td>\n",
       "      <td>1970-01-01</td>\n",
       "      <td>189.28</td>\n",
       "      <td>NSW</td>\n",
       "    </tr>\n",
       "    <tr>\n",
       "      <th>3</th>\n",
       "      <td>1</td>\n",
       "      <td>(53.5, 70.25]</td>\n",
       "      <td>9785</td>\n",
       "      <td>2017-01-05</td>\n",
       "      <td>72</td>\n",
       "      <td>360.40</td>\n",
       "      <td>270.30</td>\n",
       "      <td>1970-01-01</td>\n",
       "      <td>90.10</td>\n",
       "      <td>NSW</td>\n",
       "    </tr>\n",
       "    <tr>\n",
       "      <th>4</th>\n",
       "      <td>1</td>\n",
       "      <td>(53.5, 70.25]</td>\n",
       "      <td>13424</td>\n",
       "      <td>2017-02-21</td>\n",
       "      <td>2</td>\n",
       "      <td>71.49</td>\n",
       "      <td>53.62</td>\n",
       "      <td>1970-01-01</td>\n",
       "      <td>17.87</td>\n",
       "      <td>NSW</td>\n",
       "    </tr>\n",
       "    <tr>\n",
       "      <th>...</th>\n",
       "      <td>...</td>\n",
       "      <td>...</td>\n",
       "      <td>...</td>\n",
       "      <td>...</td>\n",
       "      <td>...</td>\n",
       "      <td>...</td>\n",
       "      <td>...</td>\n",
       "      <td>...</td>\n",
       "      <td>...</td>\n",
       "      <td>...</td>\n",
       "    </tr>\n",
       "    <tr>\n",
       "      <th>14039</th>\n",
       "      <td>3496</td>\n",
       "      <td>(19.933, 36.75]</td>\n",
       "      <td>9769</td>\n",
       "      <td>2017-03-07</td>\n",
       "      <td>5</td>\n",
       "      <td>574.64</td>\n",
       "      <td>459.71</td>\n",
       "      <td>1970-01-01</td>\n",
       "      <td>114.93</td>\n",
       "      <td>NSW</td>\n",
       "    </tr>\n",
       "    <tr>\n",
       "      <th>14040</th>\n",
       "      <td>3496</td>\n",
       "      <td>(19.933, 36.75]</td>\n",
       "      <td>18797</td>\n",
       "      <td>2017-04-02</td>\n",
       "      <td>16</td>\n",
       "      <td>1661.92</td>\n",
       "      <td>1479.11</td>\n",
       "      <td>1970-01-01</td>\n",
       "      <td>182.81</td>\n",
       "      <td>NSW</td>\n",
       "    </tr>\n",
       "    <tr>\n",
       "      <th>14041</th>\n",
       "      <td>3497</td>\n",
       "      <td>(19.933, 36.75]</td>\n",
       "      <td>6926</td>\n",
       "      <td>2017-11-08</td>\n",
       "      <td>1</td>\n",
       "      <td>1403.50</td>\n",
       "      <td>954.82</td>\n",
       "      <td>1970-01-01</td>\n",
       "      <td>448.68</td>\n",
       "      <td>VIC</td>\n",
       "    </tr>\n",
       "    <tr>\n",
       "      <th>14042</th>\n",
       "      <td>3497</td>\n",
       "      <td>(19.933, 36.75]</td>\n",
       "      <td>8276</td>\n",
       "      <td>2017-09-01</td>\n",
       "      <td>18</td>\n",
       "      <td>575.27</td>\n",
       "      <td>431.45</td>\n",
       "      <td>1970-01-01</td>\n",
       "      <td>143.82</td>\n",
       "      <td>VIC</td>\n",
       "    </tr>\n",
       "    <tr>\n",
       "      <th>14043</th>\n",
       "      <td>3497</td>\n",
       "      <td>(19.933, 36.75]</td>\n",
       "      <td>10493</td>\n",
       "      <td>2017-09-12</td>\n",
       "      <td>78</td>\n",
       "      <td>1765.30</td>\n",
       "      <td>709.48</td>\n",
       "      <td>1970-01-01</td>\n",
       "      <td>1055.82</td>\n",
       "      <td>VIC</td>\n",
       "    </tr>\n",
       "  </tbody>\n",
       "</table>\n",
       "<p>14044 rows × 10 columns</p>\n",
       "</div>"
      ],
      "text/plain": [
       "       customer_id        age_range  transaction_id transaction_date  \\\n",
       "0                1    (53.5, 70.25]              94       2017-12-23   \n",
       "1                1    (53.5, 70.25]            3765       2017-04-06   \n",
       "2                1    (53.5, 70.25]            5157       2017-05-11   \n",
       "3                1    (53.5, 70.25]            9785       2017-01-05   \n",
       "4                1    (53.5, 70.25]           13424       2017-02-21   \n",
       "...            ...              ...             ...              ...   \n",
       "14039         3496  (19.933, 36.75]            9769       2017-03-07   \n",
       "14040         3496  (19.933, 36.75]           18797       2017-04-02   \n",
       "14041         3497  (19.933, 36.75]            6926       2017-11-08   \n",
       "14042         3497  (19.933, 36.75]            8276       2017-09-01   \n",
       "14043         3497  (19.933, 36.75]           10493       2017-09-12   \n",
       "\n",
       "       product_id  list_price  standard_cost product_first_sold_date  \\\n",
       "0              86      235.63         125.07              1970-01-01   \n",
       "1              38     1577.53         826.51              1970-01-01   \n",
       "2              47     1720.70        1531.42              1970-01-01   \n",
       "3              72      360.40         270.30              1970-01-01   \n",
       "4               2       71.49          53.62              1970-01-01   \n",
       "...           ...         ...            ...                     ...   \n",
       "14039           5      574.64         459.71              1970-01-01   \n",
       "14040          16     1661.92        1479.11              1970-01-01   \n",
       "14041           1     1403.50         954.82              1970-01-01   \n",
       "14042          18      575.27         431.45              1970-01-01   \n",
       "14043          78     1765.30         709.48              1970-01-01   \n",
       "\n",
       "       Profit Margin state  \n",
       "0             110.56   NSW  \n",
       "1             751.02   NSW  \n",
       "2             189.28   NSW  \n",
       "3              90.10   NSW  \n",
       "4              17.87   NSW  \n",
       "...              ...   ...  \n",
       "14039         114.93   NSW  \n",
       "14040         182.81   NSW  \n",
       "14041         448.68   VIC  \n",
       "14042         143.82   VIC  \n",
       "14043        1055.82   VIC  \n",
       "\n",
       "[14044 rows x 10 columns]"
      ]
     },
     "execution_count": 28,
     "metadata": {},
     "output_type": "execute_result"
    }
   ],
   "source": [
    "dff = df_demoaddtrans[['customer_id','age_range','transaction_id','transaction_date','product_id','list_price','standard_cost','product_first_sold_date','Profit Margin','state']]\n",
    "dff"
   ]
  },
  {
   "cell_type": "code",
   "execution_count": 29,
   "metadata": {
    "scrolled": false
   },
   "outputs": [
    {
     "data": {
      "image/png": "[encoded data removed]",
      "text/plain": [
       "<Figure size 432x288 with 1 Axes>"
      ]
     },
     "metadata": {
      "needs_background": "light"
     },
     "output_type": "display_data"
    }
   ],
   "source": [
    "df_grouped = dff.groupby('age_range')['Profit Margin'].count().reset_index(name='total_profit')\n",
    "plt.figure(figsize=(6,4))\n",
    "g = sns.barplot(df_grouped['age_range'], df_grouped['total_profit'])\n",
    "plt.title('Total profit based on age segment')\n",
    "for p in g.patches:\n",
    "    g.annotate(format(p.get_height(), '.0f'), (p.get_x() + p.get_width() / 2., p.get_height()), ha = 'center', va = 'center', xytext = (0, 10), size='10', textcoords = 'offset points')"
   ]
  },
  {
   "cell_type": "code",
   "execution_count": 30,
   "metadata": {
    "scrolled": true
   },
   "outputs": [
    {
     "data": {
      "text/html": [
       "<div>\n",
       "<style scoped>\n",
       "    .dataframe tbody tr th:only-of-type {\n",
       "        vertical-align: middle;\n",
       "    }\n",
       "\n",
       "    .dataframe tbody tr th {\n",
       "        vertical-align: top;\n",
       "    }\n",
       "\n",
       "    .dataframe thead th {\n",
       "        text-align: right;\n",
       "    }\n",
       "</style>\n",
       "<table border=\"1\" class=\"dataframe\">\n",
       "  <thead>\n",
       "    <tr style=\"text-align: right;\">\n",
       "      <th></th>\n",
       "      <th>age_range</th>\n",
       "      <th>product_id</th>\n",
       "      <th>total_profit</th>\n",
       "    </tr>\n",
       "  </thead>\n",
       "  <tbody>\n",
       "    <tr>\n",
       "      <th>104</th>\n",
       "      <td>(36.75, 53.5]</td>\n",
       "      <td>3</td>\n",
       "      <td>223034.05</td>\n",
       "    </tr>\n",
       "    <tr>\n",
       "      <th>3</th>\n",
       "      <td>(19.933, 36.75]</td>\n",
       "      <td>3</td>\n",
       "      <td>110665.75</td>\n",
       "    </tr>\n",
       "    <tr>\n",
       "      <th>205</th>\n",
       "      <td>(53.5, 70.25]</td>\n",
       "      <td>3</td>\n",
       "      <td>107260.65</td>\n",
       "    </tr>\n",
       "    <tr>\n",
       "      <th>139</th>\n",
       "      <td>(36.75, 53.5]</td>\n",
       "      <td>38</td>\n",
       "      <td>95237.19</td>\n",
       "    </tr>\n",
       "    <tr>\n",
       "      <th>158</th>\n",
       "      <td>(36.75, 53.5]</td>\n",
       "      <td>57</td>\n",
       "      <td>89663.75</td>\n",
       "    </tr>\n",
       "  </tbody>\n",
       "</table>\n",
       "</div>"
      ],
      "text/plain": [
       "           age_range  product_id  total_profit\n",
       "104    (36.75, 53.5]           3     223034.05\n",
       "3    (19.933, 36.75]           3     110665.75\n",
       "205    (53.5, 70.25]           3     107260.65\n",
       "139    (36.75, 53.5]          38      95237.19\n",
       "158    (36.75, 53.5]          57      89663.75"
      ]
     },
     "execution_count": 30,
     "metadata": {},
     "output_type": "execute_result"
    }
   ],
   "source": [
    "df_grouped = dff.groupby(['age_range', 'product_id'])['Profit Margin'].sum().reset_index(name='total_profit')\n",
    "df=df_grouped.sort_values(by = 'total_profit',ascending=False).head(5)\n",
    "df"
   ]
  },
  {
   "cell_type": "code",
   "execution_count": 31,
   "metadata": {
    "scrolled": false
   },
   "outputs": [
    {
     "data": {
      "image/png": "[encoded data removed]",
      "text/plain": [
       "<Figure size 1800x720 with 1 Axes>"
      ]
     },
     "metadata": {
      "needs_background": "light"
     },
     "output_type": "display_data"
    }
   ],
   "source": [
    "plt.figure(figsize=(25,10))\n",
    "g = sns.barplot(df['product_id'], df_grouped['total_profit'], hue = df['age_range'])\n",
    "plt.title('Top 5 high profit product IDs based on age segment')\n",
    "for p in g.patches:\n",
    "    g.annotate(format(p.get_height(), '.0f'), (p.get_x() + p.get_width() / 2., p.get_height()), ha = 'center', va = 'center', xytext = (0, 10), size='15', textcoords = 'offset points')"
   ]
  },
  {
   "cell_type": "code",
   "execution_count": 32,
   "metadata": {
    "scrolled": false
   },
   "outputs": [
    {
     "name": "stderr",
     "output_type": "stream",
     "text": [
      "C:\\ProgramData\\Anaconda3\\lib\\site-packages\\ipykernel_launcher.py:1: SettingWithCopyWarning: \n",
      "A value is trying to be set on a copy of a slice from a DataFrame.\n",
      "Try using .loc[row_indexer,col_indexer] = value instead\n",
      "\n",
      "See the caveats in the documentation: https://pandas.pydata.org/pandas-docs/stable/user_guide/indexing.html#returning-a-view-versus-a-copy\n",
      "  \"\"\"Entry point for launching an IPython kernel.\n"
     ]
    }
   ],
   "source": [
    "dff['month'] = pd.to_datetime(dff['transaction_date']).dt.month"
   ]
  },
  {
   "cell_type": "code",
   "execution_count": 33,
   "metadata": {},
   "outputs": [
    {
     "data": {
      "image/png": "[encoded data removed]",
      "text/plain": [
       "<Figure size 1080x576 with 1 Axes>"
      ]
     },
     "metadata": {
      "needs_background": "light"
     },
     "output_type": "display_data"
    }
   ],
   "source": [
    "df_grouped = dff.groupby('month')['transaction_id'].count().reset_index(name='total_transaction')\n",
    "plt.figure(figsize=(15,8))\n",
    "g = sns.barplot(df_grouped['month'], df_grouped['total_transaction'])\n",
    "plt.title('Most transaction period (month)')\n",
    "for p in g.patches:\n",
    "    g.annotate(format(p.get_height(), '.0f'), (p.get_x() + p.get_width() / 2., p.get_height()), ha = 'center', va = 'center', xytext = (0, 10), size='10', textcoords = 'offset points')"
   ]
  },
  {
   "cell_type": "markdown",
   "metadata": {},
   "source": [
    "### We will analyse data based on RFM (menthod used for analyzing customer value)\n",
    "**Recency:** when is the last time the user takes an action (e.g., login, place an order)?\n",
    "\n",
    "**Frequency:** how many times does the user take this action?\n",
    "\n",
    "**Monetary value:** what is the sum of monetary value from this user throughout his/her lifetime?"
   ]
  },
  {
   "cell_type": "code",
   "execution_count": 34,
   "metadata": {
    "scrolled": false
   },
   "outputs": [
    {
     "name": "stderr",
     "output_type": "stream",
     "text": [
      "C:\\ProgramData\\Anaconda3\\lib\\site-packages\\ipykernel_launcher.py:5: SettingWithCopyWarning: \n",
      "A value is trying to be set on a copy of a slice from a DataFrame.\n",
      "Try using .loc[row_indexer,col_indexer] = value instead\n",
      "\n",
      "See the caveats in the documentation: https://pandas.pydata.org/pandas-docs/stable/user_guide/indexing.html#returning-a-view-versus-a-copy\n",
      "  \"\"\"\n",
      "C:\\ProgramData\\Anaconda3\\lib\\site-packages\\ipykernel_launcher.py:7: SettingWithCopyWarning: \n",
      "A value is trying to be set on a copy of a slice from a DataFrame.\n",
      "Try using .loc[row_indexer,col_indexer] = value instead\n",
      "\n",
      "See the caveats in the documentation: https://pandas.pydata.org/pandas-docs/stable/user_guide/indexing.html#returning-a-view-versus-a-copy\n",
      "  import sys\n"
     ]
    },
    {
     "data": {
      "text/html": [
       "<div>\n",
       "<style scoped>\n",
       "    .dataframe tbody tr th:only-of-type {\n",
       "        vertical-align: middle;\n",
       "    }\n",
       "\n",
       "    .dataframe tbody tr th {\n",
       "        vertical-align: top;\n",
       "    }\n",
       "\n",
       "    .dataframe thead th {\n",
       "        text-align: right;\n",
       "    }\n",
       "</style>\n",
       "<table border=\"1\" class=\"dataframe\">\n",
       "  <thead>\n",
       "    <tr style=\"text-align: right;\">\n",
       "      <th></th>\n",
       "      <th>customer_id</th>\n",
       "      <th>age_range</th>\n",
       "      <th>transaction_id</th>\n",
       "      <th>transaction_date</th>\n",
       "      <th>product_id</th>\n",
       "      <th>list_price</th>\n",
       "      <th>standard_cost</th>\n",
       "      <th>product_first_sold_date</th>\n",
       "      <th>Profit Margin</th>\n",
       "      <th>state</th>\n",
       "      <th>month</th>\n",
       "      <th>Recency</th>\n",
       "    </tr>\n",
       "  </thead>\n",
       "  <tbody>\n",
       "    <tr>\n",
       "      <th>0</th>\n",
       "      <td>1</td>\n",
       "      <td>(53.5, 70.25]</td>\n",
       "      <td>94</td>\n",
       "      <td>2017-12-23</td>\n",
       "      <td>86</td>\n",
       "      <td>235.63</td>\n",
       "      <td>125.07</td>\n",
       "      <td>1970-01-01</td>\n",
       "      <td>110.56</td>\n",
       "      <td>NSW</td>\n",
       "      <td>12</td>\n",
       "      <td>7</td>\n",
       "    </tr>\n",
       "    <tr>\n",
       "      <th>1</th>\n",
       "      <td>1</td>\n",
       "      <td>(53.5, 70.25]</td>\n",
       "      <td>3765</td>\n",
       "      <td>2017-04-06</td>\n",
       "      <td>38</td>\n",
       "      <td>1577.53</td>\n",
       "      <td>826.51</td>\n",
       "      <td>1970-01-01</td>\n",
       "      <td>751.02</td>\n",
       "      <td>NSW</td>\n",
       "      <td>4</td>\n",
       "      <td>268</td>\n",
       "    </tr>\n",
       "    <tr>\n",
       "      <th>2</th>\n",
       "      <td>1</td>\n",
       "      <td>(53.5, 70.25]</td>\n",
       "      <td>5157</td>\n",
       "      <td>2017-05-11</td>\n",
       "      <td>47</td>\n",
       "      <td>1720.70</td>\n",
       "      <td>1531.42</td>\n",
       "      <td>1970-01-01</td>\n",
       "      <td>189.28</td>\n",
       "      <td>NSW</td>\n",
       "      <td>5</td>\n",
       "      <td>233</td>\n",
       "    </tr>\n",
       "    <tr>\n",
       "      <th>3</th>\n",
       "      <td>1</td>\n",
       "      <td>(53.5, 70.25]</td>\n",
       "      <td>9785</td>\n",
       "      <td>2017-01-05</td>\n",
       "      <td>72</td>\n",
       "      <td>360.40</td>\n",
       "      <td>270.30</td>\n",
       "      <td>1970-01-01</td>\n",
       "      <td>90.10</td>\n",
       "      <td>NSW</td>\n",
       "      <td>1</td>\n",
       "      <td>359</td>\n",
       "    </tr>\n",
       "    <tr>\n",
       "      <th>4</th>\n",
       "      <td>1</td>\n",
       "      <td>(53.5, 70.25]</td>\n",
       "      <td>13424</td>\n",
       "      <td>2017-02-21</td>\n",
       "      <td>2</td>\n",
       "      <td>71.49</td>\n",
       "      <td>53.62</td>\n",
       "      <td>1970-01-01</td>\n",
       "      <td>17.87</td>\n",
       "      <td>NSW</td>\n",
       "      <td>2</td>\n",
       "      <td>312</td>\n",
       "    </tr>\n",
       "    <tr>\n",
       "      <th>...</th>\n",
       "      <td>...</td>\n",
       "      <td>...</td>\n",
       "      <td>...</td>\n",
       "      <td>...</td>\n",
       "      <td>...</td>\n",
       "      <td>...</td>\n",
       "      <td>...</td>\n",
       "      <td>...</td>\n",
       "      <td>...</td>\n",
       "      <td>...</td>\n",
       "      <td>...</td>\n",
       "      <td>...</td>\n",
       "    </tr>\n",
       "    <tr>\n",
       "      <th>14039</th>\n",
       "      <td>3496</td>\n",
       "      <td>(19.933, 36.75]</td>\n",
       "      <td>9769</td>\n",
       "      <td>2017-03-07</td>\n",
       "      <td>5</td>\n",
       "      <td>574.64</td>\n",
       "      <td>459.71</td>\n",
       "      <td>1970-01-01</td>\n",
       "      <td>114.93</td>\n",
       "      <td>NSW</td>\n",
       "      <td>3</td>\n",
       "      <td>298</td>\n",
       "    </tr>\n",
       "    <tr>\n",
       "      <th>14040</th>\n",
       "      <td>3496</td>\n",
       "      <td>(19.933, 36.75]</td>\n",
       "      <td>18797</td>\n",
       "      <td>2017-04-02</td>\n",
       "      <td>16</td>\n",
       "      <td>1661.92</td>\n",
       "      <td>1479.11</td>\n",
       "      <td>1970-01-01</td>\n",
       "      <td>182.81</td>\n",
       "      <td>NSW</td>\n",
       "      <td>4</td>\n",
       "      <td>272</td>\n",
       "    </tr>\n",
       "    <tr>\n",
       "      <th>14041</th>\n",
       "      <td>3497</td>\n",
       "      <td>(19.933, 36.75]</td>\n",
       "      <td>6926</td>\n",
       "      <td>2017-11-08</td>\n",
       "      <td>1</td>\n",
       "      <td>1403.50</td>\n",
       "      <td>954.82</td>\n",
       "      <td>1970-01-01</td>\n",
       "      <td>448.68</td>\n",
       "      <td>VIC</td>\n",
       "      <td>11</td>\n",
       "      <td>52</td>\n",
       "    </tr>\n",
       "    <tr>\n",
       "      <th>14042</th>\n",
       "      <td>3497</td>\n",
       "      <td>(19.933, 36.75]</td>\n",
       "      <td>8276</td>\n",
       "      <td>2017-09-01</td>\n",
       "      <td>18</td>\n",
       "      <td>575.27</td>\n",
       "      <td>431.45</td>\n",
       "      <td>1970-01-01</td>\n",
       "      <td>143.82</td>\n",
       "      <td>VIC</td>\n",
       "      <td>9</td>\n",
       "      <td>120</td>\n",
       "    </tr>\n",
       "    <tr>\n",
       "      <th>14043</th>\n",
       "      <td>3497</td>\n",
       "      <td>(19.933, 36.75]</td>\n",
       "      <td>10493</td>\n",
       "      <td>2017-09-12</td>\n",
       "      <td>78</td>\n",
       "      <td>1765.30</td>\n",
       "      <td>709.48</td>\n",
       "      <td>1970-01-01</td>\n",
       "      <td>1055.82</td>\n",
       "      <td>VIC</td>\n",
       "      <td>9</td>\n",
       "      <td>109</td>\n",
       "    </tr>\n",
       "  </tbody>\n",
       "</table>\n",
       "<p>14044 rows × 12 columns</p>\n",
       "</div>"
      ],
      "text/plain": [
       "       customer_id        age_range  transaction_id transaction_date  \\\n",
       "0                1    (53.5, 70.25]              94       2017-12-23   \n",
       "1                1    (53.5, 70.25]            3765       2017-04-06   \n",
       "2                1    (53.5, 70.25]            5157       2017-05-11   \n",
       "3                1    (53.5, 70.25]            9785       2017-01-05   \n",
       "4                1    (53.5, 70.25]           13424       2017-02-21   \n",
       "...            ...              ...             ...              ...   \n",
       "14039         3496  (19.933, 36.75]            9769       2017-03-07   \n",
       "14040         3496  (19.933, 36.75]           18797       2017-04-02   \n",
       "14041         3497  (19.933, 36.75]            6926       2017-11-08   \n",
       "14042         3497  (19.933, 36.75]            8276       2017-09-01   \n",
       "14043         3497  (19.933, 36.75]           10493       2017-09-12   \n",
       "\n",
       "       product_id  list_price  standard_cost product_first_sold_date  \\\n",
       "0              86      235.63         125.07              1970-01-01   \n",
       "1              38     1577.53         826.51              1970-01-01   \n",
       "2              47     1720.70        1531.42              1970-01-01   \n",
       "3              72      360.40         270.30              1970-01-01   \n",
       "4               2       71.49          53.62              1970-01-01   \n",
       "...           ...         ...            ...                     ...   \n",
       "14039           5      574.64         459.71              1970-01-01   \n",
       "14040          16     1661.92        1479.11              1970-01-01   \n",
       "14041           1     1403.50         954.82              1970-01-01   \n",
       "14042          18      575.27         431.45              1970-01-01   \n",
       "14043          78     1765.30         709.48              1970-01-01   \n",
       "\n",
       "       Profit Margin state  month  Recency  \n",
       "0             110.56   NSW     12        7  \n",
       "1             751.02   NSW      4      268  \n",
       "2             189.28   NSW      5      233  \n",
       "3              90.10   NSW      1      359  \n",
       "4              17.87   NSW      2      312  \n",
       "...              ...   ...    ...      ...  \n",
       "14039         114.93   NSW      3      298  \n",
       "14040         182.81   NSW      4      272  \n",
       "14041         448.68   VIC     11       52  \n",
       "14042         143.82   VIC      9      120  \n",
       "14043        1055.82   VIC      9      109  \n",
       "\n",
       "[14044 rows x 12 columns]"
      ]
     },
     "execution_count": 34,
     "metadata": {},
     "output_type": "execute_result"
    }
   ],
   "source": [
    "# to find recent transaction date\n",
    "date = pd.to_datetime(dff['transaction_date']).dt.date.max()\n",
    "\n",
    "# to find the recency for transaction\n",
    "dff['Recency'] = pd.to_datetime(dff['transaction_date']).dt.date.apply(lambda row:(date - row))\n",
    "\n",
    "dff['Recency'] = dff['Recency'].dt.days\n",
    "dff"
   ]
  },
  {
   "cell_type": "code",
   "execution_count": 35,
   "metadata": {},
   "outputs": [
    {
     "data": {
      "text/html": [
       "<div>\n",
       "<style scoped>\n",
       "    .dataframe tbody tr th:only-of-type {\n",
       "        vertical-align: middle;\n",
       "    }\n",
       "\n",
       "    .dataframe tbody tr th {\n",
       "        vertical-align: top;\n",
       "    }\n",
       "\n",
       "    .dataframe thead th {\n",
       "        text-align: right;\n",
       "    }\n",
       "</style>\n",
       "<table border=\"1\" class=\"dataframe\">\n",
       "  <thead>\n",
       "    <tr style=\"text-align: right;\">\n",
       "      <th></th>\n",
       "      <th>Recency</th>\n",
       "      <th>No_of_products</th>\n",
       "      <th>Total_profit</th>\n",
       "    </tr>\n",
       "    <tr>\n",
       "      <th>customer_id</th>\n",
       "      <th></th>\n",
       "      <th></th>\n",
       "      <th></th>\n",
       "    </tr>\n",
       "  </thead>\n",
       "  <tbody>\n",
       "    <tr>\n",
       "      <th>1</th>\n",
       "      <td>7</td>\n",
       "      <td>11</td>\n",
       "      <td>3018.09</td>\n",
       "    </tr>\n",
       "    <tr>\n",
       "      <th>2</th>\n",
       "      <td>128</td>\n",
       "      <td>3</td>\n",
       "      <td>2226.26</td>\n",
       "    </tr>\n",
       "    <tr>\n",
       "      <th>9</th>\n",
       "      <td>78</td>\n",
       "      <td>6</td>\n",
       "      <td>2353.11</td>\n",
       "    </tr>\n",
       "    <tr>\n",
       "      <th>12</th>\n",
       "      <td>67</td>\n",
       "      <td>7</td>\n",
       "      <td>3540.03</td>\n",
       "    </tr>\n",
       "    <tr>\n",
       "      <th>13</th>\n",
       "      <td>27</td>\n",
       "      <td>7</td>\n",
       "      <td>4337.38</td>\n",
       "    </tr>\n",
       "    <tr>\n",
       "      <th>...</th>\n",
       "      <td>...</td>\n",
       "      <td>...</td>\n",
       "      <td>...</td>\n",
       "    </tr>\n",
       "    <tr>\n",
       "      <th>3493</th>\n",
       "      <td>93</td>\n",
       "      <td>6</td>\n",
       "      <td>3728.88</td>\n",
       "    </tr>\n",
       "    <tr>\n",
       "      <th>3494</th>\n",
       "      <td>4</td>\n",
       "      <td>4</td>\n",
       "      <td>2755.11</td>\n",
       "    </tr>\n",
       "    <tr>\n",
       "      <th>3495</th>\n",
       "      <td>13</td>\n",
       "      <td>7</td>\n",
       "      <td>3847.65</td>\n",
       "    </tr>\n",
       "    <tr>\n",
       "      <th>3496</th>\n",
       "      <td>256</td>\n",
       "      <td>4</td>\n",
       "      <td>2045.84</td>\n",
       "    </tr>\n",
       "    <tr>\n",
       "      <th>3497</th>\n",
       "      <td>52</td>\n",
       "      <td>3</td>\n",
       "      <td>1648.32</td>\n",
       "    </tr>\n",
       "  </tbody>\n",
       "</table>\n",
       "<p>2521 rows × 3 columns</p>\n",
       "</div>"
      ],
      "text/plain": [
       "             Recency  No_of_products  Total_profit\n",
       "customer_id                                       \n",
       "1                  7              11       3018.09\n",
       "2                128               3       2226.26\n",
       "9                 78               6       2353.11\n",
       "12                67               7       3540.03\n",
       "13                27               7       4337.38\n",
       "...              ...             ...           ...\n",
       "3493              93               6       3728.88\n",
       "3494               4               4       2755.11\n",
       "3495              13               7       3847.65\n",
       "3496             256               4       2045.84\n",
       "3497              52               3       1648.32\n",
       "\n",
       "[2521 rows x 3 columns]"
      ]
     },
     "execution_count": 35,
     "metadata": {},
     "output_type": "execute_result"
    }
   ],
   "source": [
    "from pandas.core.reshape.concat import concat\n",
    "\n",
    "df_grouped = dff.groupby('customer_id')['Recency'].min().reset_index(name='Recency')\n",
    "df_grouped1 = dff.groupby('customer_id')['product_id'].count().reset_index(name='No_of_products')\n",
    "df_grouped2 = dff.groupby('customer_id')['Profit Margin'].sum().reset_index(name='Total_profit')\n",
    "merged_table = df_grouped.merge(df_grouped1, on = 'customer_id', how = 'inner').merge(df_grouped2, on = 'customer_id', how = 'inner')\n",
    "merged_table.set_index('customer_id', inplace = True)\n",
    "merged_table"
   ]
  },
  {
   "cell_type": "markdown",
   "metadata": {},
   "source": [
    "Now we’re going to determine the r_quartile, f_quartile and m_quartile with RFM score at which customers buy the products."
   ]
  },
  {
   "cell_type": "code",
   "execution_count": 36,
   "metadata": {},
   "outputs": [
    {
     "data": {
      "text/plain": [
       "{'Recency': {0.25: 18.0, 0.5: 45.0, 0.75: 87.0},\n",
       " 'No_of_products': {0.25: 4.0, 0.5: 5.0, 0.75: 7.0},\n",
       " 'Total_profit': {0.25: 1784.3200000000002, 0.5: 2799.26, 0.75: 4090.05}}"
      ]
     },
     "execution_count": 36,
     "metadata": {},
     "output_type": "execute_result"
    }
   ],
   "source": [
    "# RFM_score : quartile values\n",
    "quantiles = merged_table.quantile(q=[0.25,0.5,0.75])\n",
    "quantiles = quantiles.to_dict()\n",
    "quantiles"
   ]
  },
  {
   "cell_type": "code",
   "execution_count": 37,
   "metadata": {},
   "outputs": [],
   "source": [
    "def RScore(x,p,d):\n",
    "    if x <= d[p][0.25]:\n",
    "        return 4\n",
    "    elif x <= d[p][0.50]:\n",
    "        return 3\n",
    "    elif x <= d[p][0.75]: \n",
    "        return 2\n",
    "    else:\n",
    "        return 1\n",
    "    \n",
    "def FMScore(x,p,d):\n",
    "    if x <= d[p][0.25]:\n",
    "        return 1\n",
    "    elif x <= d[p][0.50]:\n",
    "        return 2\n",
    "    elif x <= d[p][0.75]: \n",
    "        return 3\n",
    "    else:\n",
    "        return 4"
   ]
  },
  {
   "cell_type": "code",
   "execution_count": 38,
   "metadata": {},
   "outputs": [
    {
     "data": {
      "text/html": [
       "<div>\n",
       "<style scoped>\n",
       "    .dataframe tbody tr th:only-of-type {\n",
       "        vertical-align: middle;\n",
       "    }\n",
       "\n",
       "    .dataframe tbody tr th {\n",
       "        vertical-align: top;\n",
       "    }\n",
       "\n",
       "    .dataframe thead th {\n",
       "        text-align: right;\n",
       "    }\n",
       "</style>\n",
       "<table border=\"1\" class=\"dataframe\">\n",
       "  <thead>\n",
       "    <tr style=\"text-align: right;\">\n",
       "      <th></th>\n",
       "      <th>Recency</th>\n",
       "      <th>No_of_products</th>\n",
       "      <th>Total_profit</th>\n",
       "      <th>r_quartile</th>\n",
       "      <th>f_quartile</th>\n",
       "      <th>m_quartile</th>\n",
       "    </tr>\n",
       "    <tr>\n",
       "      <th>customer_id</th>\n",
       "      <th></th>\n",
       "      <th></th>\n",
       "      <th></th>\n",
       "      <th></th>\n",
       "      <th></th>\n",
       "      <th></th>\n",
       "    </tr>\n",
       "  </thead>\n",
       "  <tbody>\n",
       "    <tr>\n",
       "      <th>1</th>\n",
       "      <td>7</td>\n",
       "      <td>11</td>\n",
       "      <td>3018.09</td>\n",
       "      <td>4</td>\n",
       "      <td>4</td>\n",
       "      <td>3</td>\n",
       "    </tr>\n",
       "    <tr>\n",
       "      <th>2</th>\n",
       "      <td>128</td>\n",
       "      <td>3</td>\n",
       "      <td>2226.26</td>\n",
       "      <td>1</td>\n",
       "      <td>1</td>\n",
       "      <td>2</td>\n",
       "    </tr>\n",
       "    <tr>\n",
       "      <th>9</th>\n",
       "      <td>78</td>\n",
       "      <td>6</td>\n",
       "      <td>2353.11</td>\n",
       "      <td>2</td>\n",
       "      <td>3</td>\n",
       "      <td>2</td>\n",
       "    </tr>\n",
       "    <tr>\n",
       "      <th>12</th>\n",
       "      <td>67</td>\n",
       "      <td>7</td>\n",
       "      <td>3540.03</td>\n",
       "      <td>2</td>\n",
       "      <td>3</td>\n",
       "      <td>3</td>\n",
       "    </tr>\n",
       "    <tr>\n",
       "      <th>13</th>\n",
       "      <td>27</td>\n",
       "      <td>7</td>\n",
       "      <td>4337.38</td>\n",
       "      <td>3</td>\n",
       "      <td>3</td>\n",
       "      <td>4</td>\n",
       "    </tr>\n",
       "  </tbody>\n",
       "</table>\n",
       "</div>"
      ],
      "text/plain": [
       "             Recency  No_of_products  Total_profit  r_quartile  f_quartile  \\\n",
       "customer_id                                                                  \n",
       "1                  7              11       3018.09           4           4   \n",
       "2                128               3       2226.26           1           1   \n",
       "9                 78               6       2353.11           2           3   \n",
       "12                67               7       3540.03           2           3   \n",
       "13                27               7       4337.38           3           3   \n",
       "\n",
       "             m_quartile  \n",
       "customer_id              \n",
       "1                     3  \n",
       "2                     2  \n",
       "9                     2  \n",
       "12                    3  \n",
       "13                    4  "
      ]
     },
     "execution_count": 38,
     "metadata": {},
     "output_type": "execute_result"
    }
   ],
   "source": [
    "merged_table['r_quartile'] = merged_table['Recency'].apply(RScore, args=('Recency',quantiles,))\n",
    "merged_table['f_quartile'] = merged_table['No_of_products'].apply(FMScore, args=('No_of_products',quantiles,))\n",
    "merged_table['m_quartile'] = merged_table['Total_profit'].apply(FMScore, args=('Total_profit',quantiles,))\n",
    "merged_table.head()"
   ]
  },
  {
   "cell_type": "code",
   "execution_count": 39,
   "metadata": {},
   "outputs": [
    {
     "data": {
      "text/html": [
       "<div>\n",
       "<style scoped>\n",
       "    .dataframe tbody tr th:only-of-type {\n",
       "        vertical-align: middle;\n",
       "    }\n",
       "\n",
       "    .dataframe tbody tr th {\n",
       "        vertical-align: top;\n",
       "    }\n",
       "\n",
       "    .dataframe thead th {\n",
       "        text-align: right;\n",
       "    }\n",
       "</style>\n",
       "<table border=\"1\" class=\"dataframe\">\n",
       "  <thead>\n",
       "    <tr style=\"text-align: right;\">\n",
       "      <th></th>\n",
       "      <th>Recency</th>\n",
       "      <th>No_of_products</th>\n",
       "      <th>Total_profit</th>\n",
       "      <th>r_quartile</th>\n",
       "      <th>f_quartile</th>\n",
       "      <th>m_quartile</th>\n",
       "      <th>RFM_Score</th>\n",
       "    </tr>\n",
       "    <tr>\n",
       "      <th>customer_id</th>\n",
       "      <th></th>\n",
       "      <th></th>\n",
       "      <th></th>\n",
       "      <th></th>\n",
       "      <th></th>\n",
       "      <th></th>\n",
       "      <th></th>\n",
       "    </tr>\n",
       "  </thead>\n",
       "  <tbody>\n",
       "    <tr>\n",
       "      <th>1</th>\n",
       "      <td>7</td>\n",
       "      <td>11</td>\n",
       "      <td>3018.09</td>\n",
       "      <td>4</td>\n",
       "      <td>4</td>\n",
       "      <td>3</td>\n",
       "      <td>443</td>\n",
       "    </tr>\n",
       "    <tr>\n",
       "      <th>2</th>\n",
       "      <td>128</td>\n",
       "      <td>3</td>\n",
       "      <td>2226.26</td>\n",
       "      <td>1</td>\n",
       "      <td>1</td>\n",
       "      <td>2</td>\n",
       "      <td>112</td>\n",
       "    </tr>\n",
       "    <tr>\n",
       "      <th>9</th>\n",
       "      <td>78</td>\n",
       "      <td>6</td>\n",
       "      <td>2353.11</td>\n",
       "      <td>2</td>\n",
       "      <td>3</td>\n",
       "      <td>2</td>\n",
       "      <td>232</td>\n",
       "    </tr>\n",
       "    <tr>\n",
       "      <th>12</th>\n",
       "      <td>67</td>\n",
       "      <td>7</td>\n",
       "      <td>3540.03</td>\n",
       "      <td>2</td>\n",
       "      <td>3</td>\n",
       "      <td>3</td>\n",
       "      <td>233</td>\n",
       "    </tr>\n",
       "    <tr>\n",
       "      <th>13</th>\n",
       "      <td>27</td>\n",
       "      <td>7</td>\n",
       "      <td>4337.38</td>\n",
       "      <td>3</td>\n",
       "      <td>3</td>\n",
       "      <td>4</td>\n",
       "      <td>334</td>\n",
       "    </tr>\n",
       "  </tbody>\n",
       "</table>\n",
       "</div>"
      ],
      "text/plain": [
       "             Recency  No_of_products  Total_profit  r_quartile  f_quartile  \\\n",
       "customer_id                                                                  \n",
       "1                  7              11       3018.09           4           4   \n",
       "2                128               3       2226.26           1           1   \n",
       "9                 78               6       2353.11           2           3   \n",
       "12                67               7       3540.03           2           3   \n",
       "13                27               7       4337.38           3           3   \n",
       "\n",
       "             m_quartile  RFM_Score  \n",
       "customer_id                         \n",
       "1                     3        443  \n",
       "2                     2        112  \n",
       "9                     2        232  \n",
       "12                    3        233  \n",
       "13                    4        334  "
      ]
     },
     "execution_count": 39,
     "metadata": {},
     "output_type": "execute_result"
    }
   ],
   "source": [
    "merged_table['RFM_Score'] = 100 * merged_table['r_quartile'] + 10 * merged_table['f_quartile'] + merged_table['m_quartile']\n",
    "merged_table.head()"
   ]
  },
  {
   "cell_type": "markdown",
   "metadata": {},
   "source": [
    "Calculating here the most frequent buyers, who can be the potential buyer for future and more likely will respond on an offer<br>\n",
    "**Diamond customer** Max - Most frequent buyer<br>\n",
    "**Platinum customer** higher quartile - second most frequent buyers<br>\n",
    "**Gold customer** Median - moderate buyers, who has chance to come back<br>\n",
    "**Silver customer** Lower quartile - has rare chance to come back<br>\n",
    "**Brownz customer** Minimum - the buyers who come once or twice and not likely to come back<br>"
   ]
  },
  {
   "cell_type": "code",
   "execution_count": 40,
   "metadata": {},
   "outputs": [
    {
     "data": {
      "text/plain": [
       "{'Recency': {0.0: 0.0, 0.25: 18.0, 0.5: 45.0, 0.75: 87.0, 1.0: 353.0},\n",
       " 'No_of_products': {0.0: 1.0, 0.25: 4.0, 0.5: 5.0, 0.75: 7.0, 1.0: 14.0},\n",
       " 'Total_profit': {0.0: 15.080000000000005,\n",
       "  0.25: 1784.3200000000002,\n",
       "  0.5: 2799.26,\n",
       "  0.75: 4090.05,\n",
       "  1.0: 11668.949999999999},\n",
       " 'r_quartile': {0.0: 1.0, 0.25: 2.0, 0.5: 3.0, 0.75: 4.0, 1.0: 4.0},\n",
       " 'f_quartile': {0.0: 1.0, 0.25: 1.0, 0.5: 2.0, 0.75: 3.0, 1.0: 4.0},\n",
       " 'm_quartile': {0.0: 1.0, 0.25: 1.0, 0.5: 2.0, 0.75: 3.0, 1.0: 4.0},\n",
       " 'RFM_Score': {0.0: 111.0, 0.25: 211.0, 0.5: 311.0, 0.75: 411.0, 1.0: 444.0}}"
      ]
     },
     "execution_count": 40,
     "metadata": {},
     "output_type": "execute_result"
    }
   ],
   "source": [
    "quantiles = merged_table.quantile(q=[0.0,0.25,0.5,0.75,1.00])\n",
    "quantiles = quantiles.to_dict()\n",
    "quantiles"
   ]
  },
  {
   "cell_type": "code",
   "execution_count": 41,
   "metadata": {},
   "outputs": [],
   "source": [
    "def category_assignment(x,p,df):\n",
    "    if x == df[p][0.00]:\n",
    "        return \"Brownz customer\"\n",
    "    elif (x >= df[p][0.00] and x < df[p][0.25]):\n",
    "        return \"Silver customer\"\n",
    "    elif (x >= df[p][0.25] and x < df[p][0.50]):\n",
    "        return \"Gold customer\"\n",
    "    elif (x >= df[p][0.50] and x < df[p][0.75]):\n",
    "        return 'Platunum customer'  \n",
    "    else:\n",
    "        return 'Diamond Customer'"
   ]
  },
  {
   "cell_type": "code",
   "execution_count": 42,
   "metadata": {},
   "outputs": [
    {
     "data": {
      "text/html": [
       "<div>\n",
       "<style scoped>\n",
       "    .dataframe tbody tr th:only-of-type {\n",
       "        vertical-align: middle;\n",
       "    }\n",
       "\n",
       "    .dataframe tbody tr th {\n",
       "        vertical-align: top;\n",
       "    }\n",
       "\n",
       "    .dataframe thead th {\n",
       "        text-align: right;\n",
       "    }\n",
       "</style>\n",
       "<table border=\"1\" class=\"dataframe\">\n",
       "  <thead>\n",
       "    <tr style=\"text-align: right;\">\n",
       "      <th></th>\n",
       "      <th>Recency</th>\n",
       "      <th>No_of_products</th>\n",
       "      <th>Total_profit</th>\n",
       "      <th>r_quartile</th>\n",
       "      <th>f_quartile</th>\n",
       "      <th>m_quartile</th>\n",
       "      <th>RFM_Score</th>\n",
       "      <th>customer_category</th>\n",
       "    </tr>\n",
       "    <tr>\n",
       "      <th>customer_id</th>\n",
       "      <th></th>\n",
       "      <th></th>\n",
       "      <th></th>\n",
       "      <th></th>\n",
       "      <th></th>\n",
       "      <th></th>\n",
       "      <th></th>\n",
       "      <th></th>\n",
       "    </tr>\n",
       "  </thead>\n",
       "  <tbody>\n",
       "    <tr>\n",
       "      <th>1</th>\n",
       "      <td>7</td>\n",
       "      <td>11</td>\n",
       "      <td>3018.09</td>\n",
       "      <td>4</td>\n",
       "      <td>4</td>\n",
       "      <td>3</td>\n",
       "      <td>443</td>\n",
       "      <td>Diamond Customer</td>\n",
       "    </tr>\n",
       "    <tr>\n",
       "      <th>2</th>\n",
       "      <td>128</td>\n",
       "      <td>3</td>\n",
       "      <td>2226.26</td>\n",
       "      <td>1</td>\n",
       "      <td>1</td>\n",
       "      <td>2</td>\n",
       "      <td>112</td>\n",
       "      <td>Silver customer</td>\n",
       "    </tr>\n",
       "    <tr>\n",
       "      <th>9</th>\n",
       "      <td>78</td>\n",
       "      <td>6</td>\n",
       "      <td>2353.11</td>\n",
       "      <td>2</td>\n",
       "      <td>3</td>\n",
       "      <td>2</td>\n",
       "      <td>232</td>\n",
       "      <td>Gold customer</td>\n",
       "    </tr>\n",
       "    <tr>\n",
       "      <th>12</th>\n",
       "      <td>67</td>\n",
       "      <td>7</td>\n",
       "      <td>3540.03</td>\n",
       "      <td>2</td>\n",
       "      <td>3</td>\n",
       "      <td>3</td>\n",
       "      <td>233</td>\n",
       "      <td>Gold customer</td>\n",
       "    </tr>\n",
       "    <tr>\n",
       "      <th>13</th>\n",
       "      <td>27</td>\n",
       "      <td>7</td>\n",
       "      <td>4337.38</td>\n",
       "      <td>3</td>\n",
       "      <td>3</td>\n",
       "      <td>4</td>\n",
       "      <td>334</td>\n",
       "      <td>Platunum customer</td>\n",
       "    </tr>\n",
       "    <tr>\n",
       "      <th>...</th>\n",
       "      <td>...</td>\n",
       "      <td>...</td>\n",
       "      <td>...</td>\n",
       "      <td>...</td>\n",
       "      <td>...</td>\n",
       "      <td>...</td>\n",
       "      <td>...</td>\n",
       "      <td>...</td>\n",
       "    </tr>\n",
       "    <tr>\n",
       "      <th>3493</th>\n",
       "      <td>93</td>\n",
       "      <td>6</td>\n",
       "      <td>3728.88</td>\n",
       "      <td>1</td>\n",
       "      <td>3</td>\n",
       "      <td>3</td>\n",
       "      <td>133</td>\n",
       "      <td>Silver customer</td>\n",
       "    </tr>\n",
       "    <tr>\n",
       "      <th>3494</th>\n",
       "      <td>4</td>\n",
       "      <td>4</td>\n",
       "      <td>2755.11</td>\n",
       "      <td>4</td>\n",
       "      <td>1</td>\n",
       "      <td>2</td>\n",
       "      <td>412</td>\n",
       "      <td>Diamond Customer</td>\n",
       "    </tr>\n",
       "    <tr>\n",
       "      <th>3495</th>\n",
       "      <td>13</td>\n",
       "      <td>7</td>\n",
       "      <td>3847.65</td>\n",
       "      <td>4</td>\n",
       "      <td>3</td>\n",
       "      <td>3</td>\n",
       "      <td>433</td>\n",
       "      <td>Diamond Customer</td>\n",
       "    </tr>\n",
       "    <tr>\n",
       "      <th>3496</th>\n",
       "      <td>256</td>\n",
       "      <td>4</td>\n",
       "      <td>2045.84</td>\n",
       "      <td>1</td>\n",
       "      <td>1</td>\n",
       "      <td>2</td>\n",
       "      <td>112</td>\n",
       "      <td>Silver customer</td>\n",
       "    </tr>\n",
       "    <tr>\n",
       "      <th>3497</th>\n",
       "      <td>52</td>\n",
       "      <td>3</td>\n",
       "      <td>1648.32</td>\n",
       "      <td>2</td>\n",
       "      <td>1</td>\n",
       "      <td>1</td>\n",
       "      <td>211</td>\n",
       "      <td>Gold customer</td>\n",
       "    </tr>\n",
       "  </tbody>\n",
       "</table>\n",
       "<p>2521 rows × 8 columns</p>\n",
       "</div>"
      ],
      "text/plain": [
       "             Recency  No_of_products  Total_profit  r_quartile  f_quartile  \\\n",
       "customer_id                                                                  \n",
       "1                  7              11       3018.09           4           4   \n",
       "2                128               3       2226.26           1           1   \n",
       "9                 78               6       2353.11           2           3   \n",
       "12                67               7       3540.03           2           3   \n",
       "13                27               7       4337.38           3           3   \n",
       "...              ...             ...           ...         ...         ...   \n",
       "3493              93               6       3728.88           1           3   \n",
       "3494               4               4       2755.11           4           1   \n",
       "3495              13               7       3847.65           4           3   \n",
       "3496             256               4       2045.84           1           1   \n",
       "3497              52               3       1648.32           2           1   \n",
       "\n",
       "             m_quartile  RFM_Score  customer_category  \n",
       "customer_id                                            \n",
       "1                     3        443   Diamond Customer  \n",
       "2                     2        112    Silver customer  \n",
       "9                     2        232      Gold customer  \n",
       "12                    3        233      Gold customer  \n",
       "13                    4        334  Platunum customer  \n",
       "...                 ...        ...                ...  \n",
       "3493                  3        133    Silver customer  \n",
       "3494                  2        412   Diamond Customer  \n",
       "3495                  3        433   Diamond Customer  \n",
       "3496                  2        112    Silver customer  \n",
       "3497                  1        211      Gold customer  \n",
       "\n",
       "[2521 rows x 8 columns]"
      ]
     },
     "execution_count": 42,
     "metadata": {},
     "output_type": "execute_result"
    }
   ],
   "source": [
    "merged_table['customer_category'] = merged_table['RFM_Score'].apply(category_assignment, args=('RFM_Score', quantiles))\n",
    "merged_table"
   ]
  },
  {
   "cell_type": "code",
   "execution_count": 59,
   "metadata": {},
   "outputs": [],
   "source": [
    "# saving merged dataframe as csv file\n",
    "merged_table.to_csv('SegmentedCustomer.csv')"
   ]
  },
  {
   "cell_type": "code",
   "execution_count": 43,
   "metadata": {},
   "outputs": [
    {
     "data": {
      "image/png": "[encoded data removed]",
      "text/plain": [
       "<Figure size 720x432 with 1 Axes>"
      ]
     },
     "metadata": {
      "needs_background": "light"
     },
     "output_type": "display_data"
    }
   ],
   "source": [
    "plt.figure(figsize=(10,6))\n",
    "sns.set(font_scale=1)\n",
    "\n",
    "plt.title('Customer Categories for given data')\n",
    "\n",
    "g = sns.countplot(y = merged_table['customer_category'], palette=sns.color_palette(\"cubehelix\", 10))\n",
    "for p in g.patches:\n",
    "        value = '{:.0f}'.format(p.get_width())\n",
    "        x = p.get_x() + p.get_width() + 0.02\n",
    "        y = p.get_y() + p.get_height()/2\n",
    "        g.annotate(value, (x, y), size=16)\n",
    "plt.show()\n"
   ]
  },
  {
   "cell_type": "code",
   "execution_count": 44,
   "metadata": {},
   "outputs": [
    {
     "data": {
      "text/plain": [
       "Text(0, 0.5, 'Monetary Value')"
      ]
     },
     "execution_count": 44,
     "metadata": {},
     "output_type": "execute_result"
    },
    {
     "data": {
      "image/png": "[encoded data removed]",
      "text/plain": [
       "<Figure size 576x432 with 1 Axes>"
      ]
     },
     "metadata": {},
     "output_type": "display_data"
    }
   ],
   "source": [
    "plt.figure(figsize=(8,6))\n",
    "plt.title('Recency vs Monetary Value')\n",
    "\n",
    "plt.scatter(merged_table['Recency'], merged_table['Total_profit'])\n",
    "plt.xlabel('Recency')\n",
    "plt.ylabel('Monetary Value')"
   ]
  },
  {
   "cell_type": "code",
   "execution_count": 45,
   "metadata": {},
   "outputs": [
    {
     "data": {
      "text/plain": [
       "Text(0, 0.5, 'Frequency')"
      ]
     },
     "execution_count": 45,
     "metadata": {},
     "output_type": "execute_result"
    },
    {
     "data": {
      "image/png": "[encoded data removed]",
      "text/plain": [
       "<Figure size 576x432 with 1 Axes>"
      ]
     },
     "metadata": {},
     "output_type": "display_data"
    }
   ],
   "source": [
    "plt.figure(figsize=(8,6))\n",
    "plt.title('Recency vs Frequency')\n",
    "\n",
    "plt.scatter(merged_table['No_of_products'], merged_table['Recency'])\n",
    "plt.xlabel('Recency')\n",
    "plt.ylabel('Frequency')"
   ]
  },
  {
   "cell_type": "code",
   "execution_count": 46,
   "metadata": {},
   "outputs": [
    {
     "data": {
      "text/plain": [
       "Text(0, 0.5, 'Monetary Value')"
      ]
     },
     "execution_count": 46,
     "metadata": {},
     "output_type": "execute_result"
    },
    {
     "data": {
      "image/png": "[encoded data removed]",
      "text/plain": [
       "<Figure size 576x432 with 1 Axes>"
      ]
     },
     "metadata": {},
     "output_type": "display_data"
    }
   ],
   "source": [
    "plt.figure(figsize=(8,6))\n",
    "plt.title('Frequency vs Monetary Value')\n",
    "\n",
    "plt.scatter(merged_table['No_of_products'], merged_table['Total_profit'])\n",
    "plt.xlabel('Frequency')\n",
    "plt.ylabel('Monetary Value')"
   ]
  },
  {
   "cell_type": "code",
   "execution_count": 47,
   "metadata": {},
   "outputs": [
    {
     "data": {
      "text/html": [
       "<div>\n",
       "<style scoped>\n",
       "    .dataframe tbody tr th:only-of-type {\n",
       "        vertical-align: middle;\n",
       "    }\n",
       "\n",
       "    .dataframe tbody tr th {\n",
       "        vertical-align: top;\n",
       "    }\n",
       "\n",
       "    .dataframe thead th {\n",
       "        text-align: right;\n",
       "    }\n",
       "</style>\n",
       "<table border=\"1\" class=\"dataframe\">\n",
       "  <thead>\n",
       "    <tr style=\"text-align: right;\">\n",
       "      <th></th>\n",
       "      <th>first_name</th>\n",
       "      <th>last_name</th>\n",
       "      <th>gender</th>\n",
       "      <th>past_3_years_bike_related_purchases</th>\n",
       "      <th>DOB</th>\n",
       "      <th>job_title</th>\n",
       "      <th>job_industry_category</th>\n",
       "      <th>wealth_segment</th>\n",
       "      <th>deceased_indicator</th>\n",
       "      <th>owns_car</th>\n",
       "      <th>tenure</th>\n",
       "      <th>address</th>\n",
       "      <th>postcode</th>\n",
       "      <th>state</th>\n",
       "      <th>country</th>\n",
       "      <th>property_valuation</th>\n",
       "      <th>Rank</th>\n",
       "      <th>Value</th>\n",
       "      <th>age</th>\n",
       "    </tr>\n",
       "  </thead>\n",
       "  <tbody>\n",
       "    <tr>\n",
       "      <th>0</th>\n",
       "      <td>Chickie</td>\n",
       "      <td>Brister</td>\n",
       "      <td>Male</td>\n",
       "      <td>86</td>\n",
       "      <td>1957-07-12</td>\n",
       "      <td>General Manager</td>\n",
       "      <td>Manufacturing</td>\n",
       "      <td>Mass Customer</td>\n",
       "      <td>N</td>\n",
       "      <td>Yes</td>\n",
       "      <td>14</td>\n",
       "      <td>45 Shopko Center</td>\n",
       "      <td>4500</td>\n",
       "      <td>QLD</td>\n",
       "      <td>Australia</td>\n",
       "      <td>6</td>\n",
       "      <td>1</td>\n",
       "      <td>1.71875</td>\n",
       "      <td>65</td>\n",
       "    </tr>\n",
       "    <tr>\n",
       "      <th>1</th>\n",
       "      <td>Morly</td>\n",
       "      <td>Genery</td>\n",
       "      <td>Male</td>\n",
       "      <td>69</td>\n",
       "      <td>1970-03-22</td>\n",
       "      <td>Structural Engineer</td>\n",
       "      <td>Property</td>\n",
       "      <td>Mass Customer</td>\n",
       "      <td>N</td>\n",
       "      <td>No</td>\n",
       "      <td>16</td>\n",
       "      <td>14 Mccormick Park</td>\n",
       "      <td>2113</td>\n",
       "      <td>NSW</td>\n",
       "      <td>Australia</td>\n",
       "      <td>11</td>\n",
       "      <td>1</td>\n",
       "      <td>1.71875</td>\n",
       "      <td>52</td>\n",
       "    </tr>\n",
       "    <tr>\n",
       "      <th>2</th>\n",
       "      <td>Ardelis</td>\n",
       "      <td>Forrester</td>\n",
       "      <td>Female</td>\n",
       "      <td>10</td>\n",
       "      <td>1974-08-28</td>\n",
       "      <td>Senior Cost Accountant</td>\n",
       "      <td>Financial Services</td>\n",
       "      <td>Affluent Customer</td>\n",
       "      <td>N</td>\n",
       "      <td>No</td>\n",
       "      <td>10</td>\n",
       "      <td>5 Colorado Crossing</td>\n",
       "      <td>3505</td>\n",
       "      <td>VIC</td>\n",
       "      <td>Australia</td>\n",
       "      <td>5</td>\n",
       "      <td>1</td>\n",
       "      <td>1.71875</td>\n",
       "      <td>48</td>\n",
       "    </tr>\n",
       "  </tbody>\n",
       "</table>\n",
       "</div>"
      ],
      "text/plain": [
       "  first_name  last_name  gender  past_3_years_bike_related_purchases  \\\n",
       "0    Chickie    Brister    Male                                   86   \n",
       "1      Morly     Genery    Male                                   69   \n",
       "2    Ardelis  Forrester  Female                                   10   \n",
       "\n",
       "          DOB               job_title job_industry_category  \\\n",
       "0  1957-07-12         General Manager         Manufacturing   \n",
       "1  1970-03-22     Structural Engineer              Property   \n",
       "2  1974-08-28  Senior Cost Accountant    Financial Services   \n",
       "\n",
       "      wealth_segment deceased_indicator owns_car  tenure              address  \\\n",
       "0      Mass Customer                  N      Yes      14     45 Shopko Center   \n",
       "1      Mass Customer                  N       No      16    14 Mccormick Park   \n",
       "2  Affluent Customer                  N       No      10  5 Colorado Crossing   \n",
       "\n",
       "   postcode state    country  property_valuation  Rank    Value  age  \n",
       "0      4500   QLD  Australia                   6     1  1.71875   65  \n",
       "1      2113   NSW  Australia                  11     1  1.71875   52  \n",
       "2      3505   VIC  Australia                   5     1  1.71875   48  "
      ]
     },
     "execution_count": 47,
     "metadata": {},
     "output_type": "execute_result"
    }
   ],
   "source": [
    "df_newcustomer.head(3)"
   ]
  },
  {
   "cell_type": "code",
   "execution_count": 48,
   "metadata": {},
   "outputs": [
    {
     "data": {
      "text/plain": [
       "Female    369\n",
       "Male      346\n",
       "Name: gender, dtype: int64"
      ]
     },
     "execution_count": 48,
     "metadata": {},
     "output_type": "execute_result"
    }
   ],
   "source": [
    "df_newcustomer['gender'].value_counts()"
   ]
  },
  {
   "cell_type": "code",
   "execution_count": 49,
   "metadata": {},
   "outputs": [
    {
     "data": {
      "text/plain": [
       "NSW    352\n",
       "VIC    197\n",
       "QLD    166\n",
       "Name: state, dtype: int64"
      ]
     },
     "execution_count": 49,
     "metadata": {},
     "output_type": "execute_result"
    }
   ],
   "source": [
    "df_newcustomer['state'].value_counts()"
   ]
  },
  {
   "cell_type": "code",
   "execution_count": 50,
   "metadata": {},
   "outputs": [
    {
     "name": "stdout",
     "output_type": "stream",
     "text": [
      "<class 'pandas.core.frame.DataFrame'>\n",
      "Int64Index: 715 entries, 0 to 999\n",
      "Data columns (total 19 columns):\n",
      " #   Column                               Non-Null Count  Dtype  \n",
      "---  ------                               --------------  -----  \n",
      " 0   first_name                           715 non-null    object \n",
      " 1   last_name                            715 non-null    object \n",
      " 2   gender                               715 non-null    object \n",
      " 3   past_3_years_bike_related_purchases  715 non-null    int64  \n",
      " 4   DOB                                  715 non-null    object \n",
      " 5   job_title                            715 non-null    object \n",
      " 6   job_industry_category                715 non-null    object \n",
      " 7   wealth_segment                       715 non-null    object \n",
      " 8   deceased_indicator                   715 non-null    object \n",
      " 9   owns_car                             715 non-null    object \n",
      " 10  tenure                               715 non-null    int64  \n",
      " 11  address                              715 non-null    object \n",
      " 12  postcode                             715 non-null    int64  \n",
      " 13  state                                715 non-null    object \n",
      " 14  country                              715 non-null    object \n",
      " 15  property_valuation                   715 non-null    int64  \n",
      " 16  Rank                                 715 non-null    int64  \n",
      " 17  Value                                715 non-null    float64\n",
      " 18  age                                  715 non-null    int64  \n",
      "dtypes: float64(1), int64(6), object(12)\n",
      "memory usage: 111.7+ KB\n"
     ]
    }
   ],
   "source": [
    "df_newcustomer.info()"
   ]
  },
  {
   "cell_type": "code",
   "execution_count": 51,
   "metadata": {},
   "outputs": [
    {
     "data": {
      "image/png": "[encoded data removed]",
      "text/plain": [
       "<Figure size 720x576 with 1 Axes>"
      ]
     },
     "metadata": {},
     "output_type": "display_data"
    }
   ],
   "source": [
    "bike_df = df_newcustomer.groupby('gender')['past_3_years_bike_related_purchases'].sum().reset_index(name='total_bikes')\n",
    "\n",
    "plt.figure(figsize=(10,8))\n",
    "g = sns.barplot(x = bike_df['gender'], y = bike_df['total_bikes'], hue= df_newcustomer['gender'], data = bike_df)\n",
    "plt.title('Gender-wise bike purchase in past 3 years by old customers')\n",
    "\n",
    "for p in g.patches:\n",
    "    x=p.get_bbox().get_points()[:,0]\n",
    "    y=p.get_bbox().get_points()[1,1]\n",
    "    g.annotate('{:.1f}%'.format(100*y/len(df_demo)), (x.mean(), y), ha='center', va='bottom', size='17')"
   ]
  },
  {
   "cell_type": "code",
   "execution_count": 52,
   "metadata": {},
   "outputs": [],
   "source": [
    "df_newcustomer['age_range'] = pd.cut(df_newcustomer['age'], bins=4)"
   ]
  },
  {
   "cell_type": "code",
   "execution_count": 53,
   "metadata": {
    "scrolled": false
   },
   "outputs": [
    {
     "data": {
      "text/plain": [
       "Text(0.5, 1.0, 'Age-wise bike purchase in past 3 years by new customers')"
      ]
     },
     "execution_count": 53,
     "metadata": {},
     "output_type": "execute_result"
    },
    {
     "data": {
      "image/png": "[encoded data removed]",
      "text/plain": [
       "<Figure size 1440x576 with 1 Axes>"
      ]
     },
     "metadata": {},
     "output_type": "display_data"
    }
   ],
   "source": [
    "bike_df1 = df_newcustomer.groupby('age')['past_3_years_bike_related_purchases'].sum().reset_index(name='total_bikes')\n",
    "\n",
    "plt.figure(figsize=(20,8))\n",
    "ax = sns.barplot(x = bike_df1['age'], y = bike_df1['total_bikes'], hue= df_newcustomer['age_range'], data = bike_df1)\n",
    "plt.title('Age-wise bike purchase in past 3 years by new customers')"
   ]
  },
  {
   "cell_type": "code",
   "execution_count": 54,
   "metadata": {
    "scrolled": true
   },
   "outputs": [
    {
     "data": {
      "text/html": [
       "<div>\n",
       "<style scoped>\n",
       "    .dataframe tbody tr th:only-of-type {\n",
       "        vertical-align: middle;\n",
       "    }\n",
       "\n",
       "    .dataframe tbody tr th {\n",
       "        vertical-align: top;\n",
       "    }\n",
       "\n",
       "    .dataframe thead th {\n",
       "        text-align: right;\n",
       "    }\n",
       "</style>\n",
       "<table border=\"1\" class=\"dataframe\">\n",
       "  <thead>\n",
       "    <tr style=\"text-align: right;\">\n",
       "      <th></th>\n",
       "      <th>job_industry</th>\n",
       "    </tr>\n",
       "    <tr>\n",
       "      <th>job_industry_category</th>\n",
       "      <th></th>\n",
       "    </tr>\n",
       "  </thead>\n",
       "  <tbody>\n",
       "    <tr>\n",
       "      <th>Argiculture</th>\n",
       "      <td>23</td>\n",
       "    </tr>\n",
       "    <tr>\n",
       "      <th>Entertainment</th>\n",
       "      <td>32</td>\n",
       "    </tr>\n",
       "    <tr>\n",
       "      <th>Financial Services</th>\n",
       "      <td>182</td>\n",
       "    </tr>\n",
       "    <tr>\n",
       "      <th>Health</th>\n",
       "      <td>135</td>\n",
       "    </tr>\n",
       "    <tr>\n",
       "      <th>IT</th>\n",
       "      <td>29</td>\n",
       "    </tr>\n",
       "    <tr>\n",
       "      <th>Manufacturing</th>\n",
       "      <td>171</td>\n",
       "    </tr>\n",
       "    <tr>\n",
       "      <th>Property</th>\n",
       "      <td>49</td>\n",
       "    </tr>\n",
       "    <tr>\n",
       "      <th>Retail</th>\n",
       "      <td>73</td>\n",
       "    </tr>\n",
       "    <tr>\n",
       "      <th>Telecommunications</th>\n",
       "      <td>21</td>\n",
       "    </tr>\n",
       "  </tbody>\n",
       "</table>\n",
       "</div>"
      ],
      "text/plain": [
       "                       job_industry\n",
       "job_industry_category              \n",
       "Argiculture                      23\n",
       "Entertainment                    32\n",
       "Financial Services              182\n",
       "Health                          135\n",
       "IT                               29\n",
       "Manufacturing                   171\n",
       "Property                         49\n",
       "Retail                           73\n",
       "Telecommunications               21"
      ]
     },
     "execution_count": 54,
     "metadata": {},
     "output_type": "execute_result"
    }
   ],
   "source": [
    "job = df_newcustomer.groupby('job_industry_category')['first_name'].count().reset_index(name='job_industry')\n",
    "job.set_index('job_industry_category', inplace = True)\n",
    "job"
   ]
  },
  {
   "cell_type": "code",
   "execution_count": 55,
   "metadata": {
    "scrolled": false
   },
   "outputs": [
    {
     "data": {
      "text/plain": [
       "Text(0.5, 1.0, 'New customers job industry distribution')"
      ]
     },
     "execution_count": 55,
     "metadata": {},
     "output_type": "execute_result"
    },
    {
     "data": {
      "image/png": "[encoded data removed]",
      "text/plain": [
       "<Figure size 936x1440 with 1 Axes>"
      ]
     },
     "metadata": {},
     "output_type": "display_data"
    }
   ],
   "source": [
    "job.groupby(['job_industry_category']).sum().plot(kind='pie', subplots=True, shadow = True,startangle=90,\n",
    "figsize=(13,20), autopct='%1.1f%%')\n",
    "plt.title('New customers job industry distribution')"
   ]
  },
  {
   "cell_type": "code",
   "execution_count": 56,
   "metadata": {},
   "outputs": [
    {
     "data": {
      "image/png": "[encoded data removed]",
      "text/plain": [
       "<Figure size 720x576 with 1 Axes>"
      ]
     },
     "metadata": {},
     "output_type": "display_data"
    }
   ],
   "source": [
    "df_grouped = df_newcustomer.groupby(['state', 'owns_car'])['past_3_years_bike_related_purchases'].count().reset_index(name='no_of_purchase')\n",
    "\n",
    "plt.figure(figsize=(10,8))\n",
    "g = sns.barplot(df_grouped['state'], df_grouped['no_of_purchase'], hue=df_grouped['owns_car'])\n",
    "plt.title('No. of transaction in each state with and without cars')\n",
    "for p in g.patches:\n",
    "    g.annotate(format(p.get_height(), '.0f'), (p.get_x() + p.get_width() / 2., p.get_height()), ha = 'center', va = 'center', xytext = (0, 10), size='17', textcoords = 'offset points')"
   ]
  },
  {
   "cell_type": "code",
   "execution_count": 57,
   "metadata": {
    "scrolled": false
   },
   "outputs": [
    {
     "data": {
      "image/png": "[encoded data removed]",
      "text/plain": [
       "<Figure size 1080x432 with 1 Axes>"
      ]
     },
     "metadata": {},
     "output_type": "display_data"
    }
   ],
   "source": [
    "wealth_df = df_newcustomer.groupby(['age_range', 'wealth_segment'])['past_3_years_bike_related_purchases'].count().reset_index(name='no_of_purchases').sort_values(by=['no_of_purchases'], ascending=False)\n",
    "\n",
    "plt.figure(figsize=(15,6))\n",
    "g = sns.barplot(x = wealth_df['age_range'], y = wealth_df['no_of_purchases'], hue = wealth_df['wealth_segment'])\n",
    "plt.title('Purchase count for each wealth segment on the basis of age-range')\n",
    "\n",
    "for p in g.patches:\n",
    "    x=p.get_bbox().get_points()[:,0]\n",
    "    y=p.get_bbox().get_points()[1,1]\n",
    "    g.annotate('{:.1f}%'.format(100*y/len(df_demo)), (x.mean(), y), ha='center', va='bottom', size='10')"
   ]
  }
 ],
 "metadata": {
  "kernelspec": {
   "display_name": "Python 3",
   "language": "python",
   "name": "python3"
  },
  "language_info": {
   "codemirror_mode": {
    "name": "ipython",
    "version": 3
   },
   "file_extension": ".py",
   "mimetype": "text/x-python",
   "name": "python",
   "nbconvert_exporter": "python",
   "pygments_lexer": "ipython3",
   "version": "3.7.6"
  }
 },
 "nbformat": 4,
 "nbformat_minor": 4
}
